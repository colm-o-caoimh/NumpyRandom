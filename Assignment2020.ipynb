{
 "cells": [
  {
   "cell_type": "markdown",
   "metadata": {},
   "source": [
    "# Assignment 2020: Investigating the numpy.random package\n",
    "***"
   ]
  },
  {
   "cell_type": "markdown",
   "metadata": {},
   "source": [
    "## The Overall Purpose of the Package\n",
    "***\n",
    "The generation of random numbers by computers has many important uses in numerous different real-world contexts. These range from the generation of truly random numbers (TRNGs) in the areas of encryption and online gambling, to the ability to generate pseudo random numbers for simluation and modelling applications [1]. In Python programming, the Numpy library provides the random package which allows developers to work with pseudo random numbers (PRNGs). [2]\n",
    "\n",
    "###### (further investigation)\n",
    "* Generator and BitGenerator\n",
    "* default_rng constructor to create instance of Generator\n",
    "* link between random and probability\n",
    "* pseudo randomness vs determinism - computers are ultimately deterministic machines\n",
    "\n",
    "[1] https://dataconomy.com/2017/12/random-data-can-benefit-business/ <br>\n",
    "[2] https://numpy.org/doc/stable/reference/random/index.html <br>"
   ]
  },
  {
   "cell_type": "markdown",
   "metadata": {},
   "source": [
    "## 1. The simple random data and Permutations functions\n",
    "***\n",
    "\n",
    "These functions allow us to generate pseudo-random real numbers within a specified range. Various operations can be performed depending on the desire of the developer. I will briefly demonstrate some of these functions before applying them in the simulation of playing cards.\n",
    "***\n"
   ]
  },
  {
   "cell_type": "markdown",
   "metadata": {},
   "source": [
    "<br>\n",
    "\n",
    "First, the numpy library is imported. This provides the full range of tools necessary to fully investigate the package. The `pyplot` module and `pandas` are also used below for visualisation"
   ]
  },
  {
   "cell_type": "code",
   "execution_count": 270,
   "metadata": {},
   "outputs": [],
   "source": [
    "import numpy as np\n",
    "import matplotlib.pyplot as plt\n",
    "import pandas as pd"
   ]
  },
  {
   "cell_type": "markdown",
   "metadata": {},
   "source": [
    "Next, the `default_rng()` function is called. This constructs a new Generator, providing access to a range of methods and distributions. "
   ]
  },
  {
   "cell_type": "code",
   "execution_count": 238,
   "metadata": {},
   "outputs": [],
   "source": [
    "rng = np.random.default_rng()"
   ]
  },
  {
   "cell_type": "markdown",
   "metadata": {},
   "source": [
    "<br>\n",
    "\n",
    "#### Some simple operations"
   ]
  },
  {
   "cell_type": "code",
   "execution_count": 265,
   "metadata": {},
   "outputs": [
    {
     "name": "stdout",
     "output_type": "stream",
     "text": [
      "[1, 7, 8, 7, 0, 6, 0, 5, 2, 5]\n"
     ]
    }
   ],
   "source": [
    "# generate 10 random numbers from 0-9 and append to list lst\n",
    "lst = []\n",
    "for i in range(10):\n",
    "    lst.append(rng.integers(low=10)) \n",
    "print(lst)"
   ]
  },
  {
   "cell_type": "code",
   "execution_count": 266,
   "metadata": {},
   "outputs": [
    {
     "name": "stdout",
     "output_type": "stream",
     "text": [
      "[0, 5, 7, 2, 7, 5, 6, 0, 1, 8]\n"
     ]
    }
   ],
   "source": [
    "# shuffle the elements of lst\n",
    "rng.shuffle(lst)\n",
    "print(lst)"
   ]
  },
  {
   "cell_type": "code",
   "execution_count": 267,
   "metadata": {},
   "outputs": [
    {
     "name": "stdout",
     "output_type": "stream",
     "text": [
      "[7, 5, 5, 5, 7, 1, 5, 0, 8, 0]\n"
     ]
    }
   ],
   "source": [
    "# use random.choice() to choose from elements in lst\n",
    "choice_list = []\n",
    "for i in range(10):\n",
    "    choice_list.append(rng.choice(lst)) # add to choice_list\n",
    "print(choice_list)"
   ]
  },
  {
   "cell_type": "code",
   "execution_count": 280,
   "metadata": {},
   "outputs": [
    {
     "name": "stdout",
     "output_type": "stream",
     "text": [
      "[[9 4 8]\n",
      " [6 4 5]]\n"
     ]
    }
   ],
   "source": [
    "# Generate a 2d array of 2 rows and 3 columns with values between 1 and 10 exclusive\n",
    "int_array_2d = rng.integers(1, 10, (2, 3))\n",
    "print(int_array_2d)"
   ]
  },
  {
   "cell_type": "code",
   "execution_count": 281,
   "metadata": {},
   "outputs": [
    {
     "name": "stdout",
     "output_type": "stream",
     "text": [
      "[[[5 8 3 2]\n",
      "  [6 6 2 8]\n",
      "  [3 8 4 8]]\n",
      "\n",
      " [[1 7 1 6]\n",
      "  [3 1 9 4]\n",
      "  [7 8 4 9]]]\n"
     ]
    }
   ],
   "source": [
    "# Generate a 3d array with values between 1 and 10 exclusive\n",
    "int_array_3d = rng.integers(1, 10, (2, 3, 4))\n",
    "print(int_array_3d)"
   ]
  },
  {
   "cell_type": "markdown",
   "metadata": {},
   "source": [
    "<br>\n",
    "\n",
    "#### Simulation: Playing cards and probability\n",
    "***\n",
    "\n",
    "One of the most important features of the np.random package is that it can be used to simulate real life events and situations. A simple computer program can perform in less than one second, what could take a human days, months or even years to do. These simulations can then be used to make informed predictions and assumptions which can be applied to real life. \n",
    "\n",
    "\n",
    "Below, I have written a program which simulates a standard deck of 52 playing cards. The simulation involves creating a standard deck, shuffling it using the `.shuffle()`  method and then drawing a single card at random using the `.choice()` method. The 'card' is then replaced. This is repeated 10,000 times and each card drawn is stored in memory.\n",
    "\n",
    "Per the package documentation, the `choice()` method assumes a uniform distribution of the elements in the array passed [3]. This is what we want as each card in the deck should have an equal chance of being drawn.\n",
    "\n",
    "'C6' represents 6 of Clubs, 'SA' Ace of Spades etc.\n",
    "\n",
    "#### Probability\n",
    "In order to verify the accuracy of the simulation, the stored cards are analysed in the following ways:\n",
    "* How many of each suit (clubs, diamonds, hearts, spades) were drawn;\n",
    "* How many of each specified single card (6C, 6D, 6S, 6H) were drawn <br>\n",
    "\n",
    "We know that the probability of drawing a particular suit is **13/52 (25%)**;<br>\n",
    "And for a single card it is **1/52 (approx. 2%)**\n",
    "\n",
    "The program demonstrates that the `.random` methods used do indeed accurately simulate the behaviour playing cards in real life.\n",
    "\n",
    "The idea for the `make_deck()` function was found in *A Primer on Scientific Programming with Python* by Hans Petter Langtangen [4]\n",
    "\n",
    "[3] https://numpy.org/doc/stable/reference/random/generated/numpy.random.Generator.choice.html#numpy.random.Generator.choice <br>\n",
    "[4] Langtangen, Hans Petter; *A Primer on Scientific Programming with Python*; Springer-Verlag Berlin Heidelberg, 2016; viewed at http://hplgit.github.io/primer.html/doc/pub/random/._random-readable002.html <br>"
   ]
  },
  {
   "cell_type": "code",
   "execution_count": 255,
   "metadata": {},
   "outputs": [],
   "source": [
    "def make_deck():\n",
    "    \n",
    "    \"\"\"\n",
    "    This function makes a standard deck of 52 playing cards\n",
    "    \"\"\"\n",
    "    \n",
    "    ranks = ['A', '2', '3', '4', '5', '6', '7',\n",
    "             '8', '9', '10', 'J', 'Q', 'K']\n",
    "    suits = ['C', 'D', 'H', 'S']\n",
    "    deck = []\n",
    "    for s in suits:\n",
    "        for r in ranks:\n",
    "            deck.append(s + r)\n",
    "        rng.shuffle(deck) # shuffle deck\n",
    "    return deck"
   ]
  },
  {
   "cell_type": "code",
   "execution_count": 256,
   "metadata": {},
   "outputs": [],
   "source": [
    "def pick(deck):\n",
    "\n",
    "    \"\"\"\n",
    "    This function picks a single card 10,000 times. It returns a list of the cards and a dictionary of their suits\n",
    "    \"\"\"\n",
    "    \n",
    "    test_suits = ['C', 'D', 'H', 'S']\n",
    "    card_list = [] \n",
    "    for i in range(10000):\n",
    "        card = rng.choice(deck)\n",
    "        card_list.append(card) \n",
    "    suit_list = suits(test_suits, card_list) # Call suits() function to create list of suits chosen \n",
    "    suit_dict = counts(suit_list) # Call counts() function to create dictionary of suits chosen\n",
    "    return suit_dict, card_list # Return dictionary of 10,000 suits and list of 10,000 cards"
   ]
  },
  {
   "cell_type": "code",
   "execution_count": 257,
   "metadata": {},
   "outputs": [],
   "source": [
    "def card_pick(card_list):\n",
    "    \n",
    "    \"\"\"\n",
    "    This function counts the number of test cards in the card_list\n",
    "    \"\"\"\n",
    "    \n",
    "    test_cards = ['H6', 'S6', 'C6', 'D6']\n",
    "    compare_cards = []\n",
    "    for card in card_list:\n",
    "        for i in range(len(test_cards)):\n",
    "            if test_cards[i] == card:\n",
    "                compare_cards.append(test_cards[i])\n",
    "    compare_cards_dict = counts(compare_cards)\n",
    "    return compare_cards_dict"
   ]
  },
  {
   "cell_type": "code",
   "execution_count": 258,
   "metadata": {},
   "outputs": [],
   "source": [
    "def suits(test_suits, card_list):\n",
    "    \n",
    "    \"\"\"\n",
    "    This function returns a list containing the suit of each card chosen\n",
    "    \"\"\"\n",
    "    \n",
    "    suit_list = []\n",
    "    for card in card_list:\n",
    "        for i in range(len(test_suits)):\n",
    "            if test_suits[i] in card:\n",
    "                suit_list.append(test_suits[i])\n",
    "    return suit_list"
   ]
  },
  {
   "cell_type": "code",
   "execution_count": 259,
   "metadata": {},
   "outputs": [],
   "source": [
    "def counts(lst):\n",
    "    \n",
    "    \"\"\"\n",
    "    This function takes a list as an argument and adds the list items to a dictionary\n",
    "    \"\"\"\n",
    "    \n",
    "    d = {}\n",
    "    for item in lst:\n",
    "        if item in d:\n",
    "            d[item] += 1\n",
    "        else:\n",
    "            d[item] = 1\n",
    "    return d"
   ]
  },
  {
   "cell_type": "code",
   "execution_count": 260,
   "metadata": {},
   "outputs": [],
   "source": [
    "deck = (make_deck())\n",
    "suit_dict, card_list = pick(deck)\n",
    "cards_dict = card_pick(card_list)"
   ]
  },
  {
   "cell_type": "markdown",
   "metadata": {},
   "source": [
    "<br>\n",
    "\n",
    "#### Analysis of output\n",
    "***\n",
    "\n",
    "* When we observe the output in the dictionary `suit_dict` we see that each suit was drawn approximately 25% of the time. \n",
    "* Similarly, `cards_dict` reveals that single cards are drawn at a rate of approximately 2%. <br>\n",
    "This is preccisely what we would expect and demonstrates that the simulation mirrors real life playing cards. <br>\n",
    "\n",
    "I have plotted both dictionaries on a bar chart. We can visualise the distribution clearly. Both suits and single cards are uniformly distributed"
   ]
  },
  {
   "cell_type": "code",
   "execution_count": 261,
   "metadata": {},
   "outputs": [
    {
     "name": "stdout",
     "output_type": "stream",
     "text": [
      "{'C': 2601, 'S': 2492, 'H': 2500, 'D': 2407}\n"
     ]
    }
   ],
   "source": [
    "# Output suit_dict. Note the value of each suit at approx 2,500, or 10,000/4\n",
    "print(suit_dict)"
   ]
  },
  {
   "cell_type": "code",
   "execution_count": 262,
   "metadata": {},
   "outputs": [
    {
     "data": {
      "text/plain": [
       "Text(0.5, 1.0, 'Suits frequency')"
      ]
     },
     "execution_count": 262,
     "metadata": {},
     "output_type": "execute_result"
    },
    {
     "data": {
      "image/png": "[encoded data removed]",
      "text/plain": [
       "<Figure size 432x288 with 1 Axes>"
      ]
     },
     "metadata": {
      "needs_background": "light"
     },
     "output_type": "display_data"
    }
   ],
   "source": [
    "# Plot suit frequency on a bar chart to view uniform distribution\n",
    "plt.bar(list(suit_dict.keys()), suit_dict.values())\n",
    "plt.title(\"Suits frequency\")"
   ]
  },
  {
   "cell_type": "code",
   "execution_count": 263,
   "metadata": {},
   "outputs": [
    {
     "name": "stdout",
     "output_type": "stream",
     "text": [
      "{'C6': 202, 'D6': 208, 'S6': 191, 'H6': 202}\n"
     ]
    }
   ],
   "source": [
    "# Output cards_dict. Note the value of each card at approx. 193 or 10,000/52\n",
    "print(cards_dict)"
   ]
  },
  {
   "cell_type": "code",
   "execution_count": 264,
   "metadata": {},
   "outputs": [
    {
     "data": {
      "text/plain": [
       "Text(0.5, 1.0, 'Single card frequency')"
      ]
     },
     "execution_count": 264,
     "metadata": {},
     "output_type": "execute_result"
    },
    {
     "data": {
      "image/png": "[encoded data removed]",
      "text/plain": [
       "<Figure size 432x288 with 1 Axes>"
      ]
     },
     "metadata": {
      "needs_background": "light"
     },
     "output_type": "display_data"
    }
   ],
   "source": [
    "# Output single card frequency on a bar chart to view uniform distribution\n",
    "plt.bar(list(cards_dict.keys()), cards_dict.values())\n",
    "plt.title(\"Single card frequency\")"
   ]
  },
  {
   "cell_type": "markdown",
   "metadata": {},
   "source": [
    "<br>\n",
    "\n",
    "#### End section 1"
   ]
  },
  {
   "cell_type": "markdown",
   "metadata": {},
   "source": [
    "<br>\n",
    "\n",
    "## 2. Distributions\n",
    "***\n",
    "\n",
    "The numpy.random package allows us to work with a range of distributions depending on our specific requirements. I examine 5 of these in the present section:\n",
    "\n",
    "* Uniform\n",
    "* Binomial\n",
    "* Normal\n",
    "* Chi-squared\n",
    "* ?\n",
    "\n",
    "Probability distributions tell us how likely it is that a certain event occurs. They have many practical applications, such as the calculation of confidence intervals and critical regions in hypothesis testing [5]. \"Statistical intervals and hypothesis tests are often based on specific distributional assumptions\" [6]. For example, the t-test is most commonly associated with a normally distributed random variable, while for Chi-squared tests it is the Chi-squared distribution. Simulation is another practical use of probability distributions which is commonly applied in numerous fields. \n",
    "\n",
    "In the simulation demonstrated above, the playing cards were drawn at random and distributed uniformly. This is the default distribution for the `rng.choice()` method. Each element in the array passed has an equal probability of being selected which is exactly what we want if we are simulating a standard deck of 52 playing cards. It is the uniform distirbution which is first explored here via the `rng.uniform()` method.\n",
    "\n",
    "[5] Engineering Statistics Handbook; Probability Distributions; https://www.itl.nist.gov/div898/handbook/eda/section3/eda36.htm <br>\n",
    "[6] *Ibid*\n",
    "\n"
   ]
  },
  {
   "cell_type": "markdown",
   "metadata": {},
   "source": [
    "<br>\n",
    "\n",
    "### 1. Uniform \n",
    "***\n",
    "\n",
    "The `rng.uniform()` function outputs an array of values which are evenly distributed across the interval passed. Each value has an equal chance of being generated. Values outside of the interval never occur and thus have a probability of 0. The probability density function is: $$ p(x) = \\frac{1}{b-a}$$\n",
    "\n",
    "Let us simulate the rolling of an unbiased, 6-sided die. This can be done using the `rng.integers()` method. By default (as with `rng.choice()` above), it will generate integers with a uniform distribution:"
   ]
  },
  {
   "cell_type": "code",
   "execution_count": 275,
   "metadata": {},
   "outputs": [
    {
     "name": "stdout",
     "output_type": "stream",
     "text": [
      "[2 3 3 5 6 2 4 5 1 4]\n"
     ]
    }
   ],
   "source": [
    "# Roll 6-sided die 10 times\n",
    "die_roll = rng.integers(1, 7, 10)\n",
    "print(die_roll)"
   ]
  },
  {
   "cell_type": "markdown",
   "metadata": {},
   "source": [
    "If we use the `rng.uniform()` method with the same arguments, we can see an interesting difference - the output will be floats:"
   ]
  },
  {
   "cell_type": "code",
   "execution_count": 282,
   "metadata": {},
   "outputs": [
    {
     "name": "stdout",
     "output_type": "stream",
     "text": [
      "[4.93124307 5.46597113 3.66569957 3.53491201 2.75576129 4.17946382\n",
      " 5.15210885 6.15779459 3.12729062 3.39748033]\n"
     ]
    }
   ],
   "source": [
    "die_roll_float = rng.uniform(1, 7, 10)\n",
    "print(die_roll_float)"
   ]
  },
  {
   "cell_type": "markdown",
   "metadata": {},
   "source": [
    "This points to an important characteristic of the method: it is a continuous proabability distribution. That is, it is \"a probability distribution in which the random variable X can take on any value\" [7]. This contrasts with the discrete uniform distribution generated by the `integers()` method, more suited to simulating a die which has only discrete values. In a continuous uniform distribution, each variable has an equal chance of being observed and that variable has an infinite number of possible values.\n",
    "\n",
    "[7] Nichoal School of the Environment; Continuous Probability Distributions https://sites.nicholas.duke.edu/statsreview/continuous-probability-distributions/ <br>"
   ]
  },
  {
   "cell_type": "markdown",
   "metadata": {},
   "source": [
    "<br>\n",
    "\n",
    "#### Plotting the uniform distribution\n",
    "***\n"
   ]
  },
  {
   "cell_type": "code",
   "execution_count": 283,
   "metadata": {},
   "outputs": [],
   "source": [
    "# Generate an array of random variables in a uniform distribution\n",
    "uni = np.random.default_rng().uniform(-10,5,10000)"
   ]
  },
  {
   "cell_type": "code",
   "execution_count": 284,
   "metadata": {},
   "outputs": [
    {
     "data": {
      "text/plain": [
       "(array([ 991., 1044.,  989.,  991., 1004.,  999., 1014.,  985.,  964.,\n",
       "        1019.]),\n",
       " array([-9.99817059, -8.49845352, -6.99873645, -5.49901937, -3.9993023 ,\n",
       "        -2.49958523, -0.99986816,  0.49984891,  1.99956598,  3.49928305,\n",
       "         4.99900012]),\n",
       " <a list of 10 Patch objects>)"
      ]
     },
     "execution_count": 284,
     "metadata": {},
     "output_type": "execute_result"
    },
    {
     "data": {
      "image/png": "[encoded data removed]",
      "text/plain": [
       "<Figure size 432x288 with 1 Axes>"
      ]
     },
     "metadata": {
      "needs_background": "light"
     },
     "output_type": "display_data"
    }
   ],
   "source": [
    "# Plot the distribution using a histogram\n",
    "plt.hist(uni)"
   ]
  },
  {
   "cell_type": "code",
   "execution_count": 285,
   "metadata": {},
   "outputs": [
    {
     "data": {
      "text/plain": [
       "-2.523266785400159"
      ]
     },
     "execution_count": 285,
     "metadata": {},
     "output_type": "execute_result"
    }
   ],
   "source": [
    "np.mean(uni)"
   ]
  },
  {
   "cell_type": "code",
   "execution_count": 286,
   "metadata": {},
   "outputs": [
    {
     "data": {
      "text/plain": [
       "<matplotlib.axes._subplots.AxesSubplot at 0x11cb239bf40>"
      ]
     },
     "execution_count": 286,
     "metadata": {},
     "output_type": "execute_result"
    },
    {
     "data": {
      "image/png": "[encoded data removed]",
      "text/plain": [
       "<Figure size 288x288 with 1 Axes>"
      ]
     },
     "metadata": {
      "needs_background": "light"
     },
     "output_type": "display_data"
    }
   ],
   "source": [
    "# Plot the density function using Pandas library\n",
    "pd.DataFrame(uni).plot(kind=\"density\", figsize=(4,4), xlim=(-15, 10))"
   ]
  },
  {
   "cell_type": "code",
   "execution_count": null,
   "metadata": {},
   "outputs": [],
   "source": []
  },
  {
   "cell_type": "code",
   "execution_count": null,
   "metadata": {},
   "outputs": [],
   "source": []
  },
  {
   "cell_type": "markdown",
   "metadata": {},
   "source": [
    "### 2. Normal\n",
    "***\n",
    "The normal distribution, also known as the Gaussian distribution or bell curve, is a continuous probability distribution which is often considered to be the most important in the field of statistics because of the frequency of its occurrence in the natural world [1]. This explains why it is often used to model random variables. The probability density function (pdf) of the normal distribution is expressed as:\n",
    "\n",
    "$$ p(x) = \\frac{1}{\\sigma\\sqrt{2\\pi}}e^{\\frac{-1}{2}(\\frac{x-\\mu}{\\sigma})}$$\n",
    "\n",
    "where $\\mu$ (mu) is the mean or median and $\\sigma$ (sigma) is the standard deviation. The pdf gives the height of the curve at point $x$ [2]. A random variable has an increasing probability of being generated the closer its value to the mean. More specifically, in normal distributions, approximately 68% of the data falls within one standard deviation of the the mean, 95% within 2 standard deviations and 99.7% within 3 standard deviations. [3]\n",
    "\n",
    "Using the numpy.random package, we can draw random samples from a normal distribution through the random.Generator.normal method. The desired mean and standard deviation are passed as parameters to the function and a specified number of samples are derived. \n",
    "\n",
    "**References** <br>\n",
    "[1] Frost, Jim; Normal Distribution in Statistics;\thttps://statisticsbyjim.com/basics/normal-distribution/ <br>\n",
    "[2] JB Statistics; An Introduction to the Normal Distribution; https://www.youtube.com/watch?v=iYiOVISWXS4 <br>\n",
    "[3] Python for Data 22: Probability Distributions https://www.kaggle.com/hamelg/python-for-data-22-probability-distributions <br>"
   ]
  },
  {
   "cell_type": "code",
   "execution_count": 35,
   "metadata": {},
   "outputs": [
    {
     "data": {
      "text/plain": [
       "7.339079382586069"
      ]
     },
     "execution_count": 35,
     "metadata": {},
     "output_type": "execute_result"
    }
   ],
   "source": [
    "# Return a single sample value from a normally distributed variable with mean=5 and standard deviation=3\n",
    "rng.normal(loc=5, scale=3)"
   ]
  },
  {
   "cell_type": "code",
   "execution_count": 36,
   "metadata": {},
   "outputs": [
    {
     "data": {
      "text/plain": [
       "array([ 2.94902554,  3.90936443,  5.56116299,  5.17103213,  4.34907578,\n",
       "       10.48251086,  2.24893769,  1.79834562,  6.18570568,  5.44726914,\n",
       "        5.56763676, 10.99415121,  9.09477084,  3.8435472 ,  4.14346314,\n",
       "        1.50184124,  2.36321294,  7.10539673,  5.68322399,  3.80264396,\n",
       "        5.54075282,  6.51610988,  9.2672442 ,  7.04163317,  4.05857811,\n",
       "        5.9951193 ,  5.48999171,  9.12726395, -1.67996969,  5.44270707,\n",
       "       -0.65921969,  3.37374897,  6.2362225 ,  1.83491402,  2.17460589,\n",
       "        5.02130695, -1.89172405,  1.90139455,  1.69906702,  8.16732808,\n",
       "        5.90143088, -0.63620615,  2.22998864,  3.30560827,  9.88625506,\n",
       "       -0.42653894,  2.3129241 ,  0.06746284,  2.96095192,  2.64632706])"
      ]
     },
     "execution_count": 36,
     "metadata": {},
     "output_type": "execute_result"
    }
   ],
   "source": [
    "# Return a 1d array of 50 values of a normally distributed random variable with mean=5 and standard deviation=3\n",
    "norm = rng.normal(loc=5, scale=3, size=50)\n",
    "norm"
   ]
  },
  {
   "cell_type": "code",
   "execution_count": 37,
   "metadata": {},
   "outputs": [
    {
     "data": {
      "text/plain": [
       "(array([4., 2., 5., 8., 8., 9., 7., 1., 3., 3.]),\n",
       " array([-1.89172405, -0.60313653,  0.685451  ,  1.97403852,  3.26262605,\n",
       "         4.55121358,  5.8398011 ,  7.12838863,  8.41697616,  9.70556368,\n",
       "        10.99415121]),\n",
       " <a list of 10 Patch objects>)"
      ]
     },
     "execution_count": 37,
     "metadata": {},
     "output_type": "execute_result"
    },
    {
     "data": {
      "image/png": "[encoded data removed]",
      "text/plain": [
       "<Figure size 432x288 with 1 Axes>"
      ]
     },
     "metadata": {
      "needs_background": "light"
     },
     "output_type": "display_data"
    }
   ],
   "source": [
    "# Plot the distribution using a histogram\n",
    "plt.hist(norm)"
   ]
  },
  {
   "cell_type": "code",
   "execution_count": 38,
   "metadata": {},
   "outputs": [
    {
     "data": {
      "text/plain": [
       "(array([  11.,   98.,  620., 1768., 2946., 2762., 1355.,  373.,   62.,\n",
       "           5.]),\n",
       " array([-6.53891211, -4.15942755, -1.77994299,  0.59954157,  2.97902613,\n",
       "         5.35851069,  7.73799525, 10.11747981, 12.49696437, 14.87644893,\n",
       "        17.25593349]),\n",
       " <a list of 10 Patch objects>)"
      ]
     },
     "execution_count": 38,
     "metadata": {},
     "output_type": "execute_result"
    },
    {
     "data": {
      "image/png": "[encoded data removed]",
      "text/plain": [
       "<Figure size 432x288 with 1 Axes>"
      ]
     },
     "metadata": {
      "needs_background": "light"
     },
     "output_type": "display_data"
    }
   ],
   "source": [
    "# The more samples we plot, the more the histogram resembles the \n",
    "# classic symmetric shape associated with normal distribution\n",
    "norm1 = rng.normal(loc=5, scale=3, size=10000)\n",
    "plt.hist(norm1)"
   ]
  },
  {
   "cell_type": "code",
   "execution_count": 39,
   "metadata": {},
   "outputs": [
    {
     "data": {
      "text/plain": [
       "5.002172642405346"
      ]
     },
     "execution_count": 39,
     "metadata": {},
     "output_type": "execute_result"
    }
   ],
   "source": [
    "# We would expect the mean of the distribution to be close to the value assigned (5)\n",
    "np.mean(norm1)"
   ]
  },
  {
   "cell_type": "code",
   "execution_count": 40,
   "metadata": {},
   "outputs": [
    {
     "data": {
      "text/plain": [
       "3.014949461503838"
      ]
     },
     "execution_count": 40,
     "metadata": {},
     "output_type": "execute_result"
    }
   ],
   "source": [
    "# We would expect the standard deviation to be close to value assigned (3)\n",
    "np.std(norm1)"
   ]
  },
  {
   "cell_type": "markdown",
   "metadata": {},
   "source": [
    "***\n",
    "A standard normal distribution has a mean of 0 and standard deviation of 1. The standard normal distribution is explored below with the associated density function"
   ]
  },
  {
   "cell_type": "code",
   "execution_count": 41,
   "metadata": {},
   "outputs": [],
   "source": [
    "# Draw samples from a standard normal distribution\n",
    "mu, sigma = 0, 1\n",
    "\n",
    "norm2 = np.random.default_rng().normal(mu, sigma, 10000)"
   ]
  },
  {
   "cell_type": "code",
   "execution_count": 42,
   "metadata": {},
   "outputs": [
    {
     "data": {
      "image/png": "[encoded data removed]",
      "text/plain": [
       "<Figure size 432x288 with 1 Axes>"
      ]
     },
     "metadata": {
      "needs_background": "light"
     },
     "output_type": "display_data"
    }
   ],
   "source": [
    "# Taken from the numpy.random documentation, use matplotlib to plot the\n",
    "# probability density function for a standard normal distribution\n",
    "count, bins, ignored = plt.hist(norm2, 30, density=True)\n",
    "\n",
    "# The probability density function is coded out and passed\n",
    "plt.plot(bins, 1/(sigma * np.sqrt(2 * np.pi)) *\n",
    "\n",
    "               np.exp( - (bins - mu)**2 / (2 * sigma**2) ),\n",
    "\n",
    "         linewidth=2, color='b')\n",
    "\n",
    "plt.show()"
   ]
  },
  {
   "cell_type": "code",
   "execution_count": 43,
   "metadata": {},
   "outputs": [
    {
     "data": {
      "text/plain": [
       "<matplotlib.axes._subplots.AxesSubplot at 0x1c8682205b0>"
      ]
     },
     "execution_count": 43,
     "metadata": {},
     "output_type": "execute_result"
    },
    {
     "data": {
      "image/png": "[encoded data removed]",
      "text/plain": [
       "<Figure size 288x288 with 1 Axes>"
      ]
     },
     "metadata": {
      "needs_background": "light"
     },
     "output_type": "display_data"
    }
   ],
   "source": [
    "# Plot density function using Pandas\n",
    "pd.DataFrame(norm2).plot(kind=\"density\", figsize=(4,4), xlim=(-4, 4))"
   ]
  },
  {
   "cell_type": "markdown",
   "metadata": {},
   "source": [
    "The standard deviation (sigma) determines the width of the curve. The lower the std, the higher the probability of the random variable being closer to the mean. We can visualise the affect of lowering or raising the value of sigma when we plot the distributions on plots of equal dimension. [4]\n",
    "\n",
    "[4] *code take from:* Lecture 18;  https://www.math.uci.edu/~isik/teaching/17W_MATH9/notes/Lecture18.html"
   ]
  },
  {
   "cell_type": "code",
   "execution_count": 44,
   "metadata": {},
   "outputs": [
    {
     "data": {
      "image/png": "[encoded data removed]",
      "text/plain": [
       "<Figure size 432x288 with 1 Axes>"
      ]
     },
     "metadata": {
      "needs_background": "light"
     },
     "output_type": "display_data"
    }
   ],
   "source": [
    "# With a mean of 0 and standard deviation of 2\n",
    "N = 500000\n",
    "mu = 0.0\n",
    "sigma = 2.0 \n",
    "norm3 = np.random.default_rng().normal(mu, sigma, size=N)\n",
    "plt.axis([-6, 6, 0, 0.40])\n",
    "_,_,_ = plt.hist(norm3, 50, density=True)"
   ]
  },
  {
   "cell_type": "code",
   "execution_count": 45,
   "metadata": {},
   "outputs": [
    {
     "data": {
      "image/png": "[encoded data removed]",
      "text/plain": [
       "<Figure size 432x288 with 1 Axes>"
      ]
     },
     "metadata": {
      "needs_background": "light"
     },
     "output_type": "display_data"
    }
   ],
   "source": [
    "# Lowering the standard deviation we can see the curve narrows \n",
    "N = 500000\n",
    "mu = 0.0\n",
    "sigma = 1.0 # lower standard deviation\n",
    "norm4 = np.random.normal(loc=mu, scale=sigma, size=N)\n",
    "plt.axis([-6, 6, 0, 0.40])\n",
    "_,_,_ = plt.hist(norm4, 50, density=True)"
   ]
  },
  {
   "cell_type": "code",
   "execution_count": null,
   "metadata": {},
   "outputs": [],
   "source": []
  },
  {
   "cell_type": "code",
   "execution_count": null,
   "metadata": {},
   "outputs": [],
   "source": []
  },
  {
   "cell_type": "code",
   "execution_count": null,
   "metadata": {},
   "outputs": [],
   "source": []
  },
  {
   "cell_type": "code",
   "execution_count": null,
   "metadata": {},
   "outputs": [],
   "source": []
  },
  {
   "cell_type": "code",
   "execution_count": null,
   "metadata": {},
   "outputs": [],
   "source": []
  },
  {
   "cell_type": "code",
   "execution_count": null,
   "metadata": {},
   "outputs": [],
   "source": []
  },
  {
   "cell_type": "code",
   "execution_count": null,
   "metadata": {},
   "outputs": [],
   "source": []
  }
 ],
 "metadata": {
  "kernelspec": {
   "display_name": "Python 3",
   "language": "python",
   "name": "python3"
  },
  "language_info": {
   "codemirror_mode": {
    "name": "ipython",
    "version": 3
   },
   "file_extension": ".py",
   "mimetype": "text/x-python",
   "name": "python",
   "nbconvert_exporter": "python",
   "pygments_lexer": "ipython3",
   "version": "3.8.3"
  }
 },
 "nbformat": 4,
 "nbformat_minor": 4
}
