{
 "cells": [
  {
   "cell_type": "markdown",
   "metadata": {},
   "source": [
    "# Assignment 2020: Investigating the numpy.random package\n",
    "***"
   ]
  },
  {
   "cell_type": "markdown",
   "metadata": {},
   "source": [
    "## The Overall Purpose of the Package\n",
    "***\n",
    "The generation of random numbers by computers has many important uses in numerous different real-world contexts. These range from the generation of truly random numbers in the areas of encryption and online gambling, to the ability to generate pseudo random numbers for simluation and modelling applications [1]. In Python programming, the Numpy library provides the `random` [package](https://numpy.org/doc/stable/reference/random/index.html) which allows developers to work with pseudo random numbers.\n",
    "\n",
    "###### (further investigation)\n",
    "* Generator and BitGenerator\n",
    "* default_rng constructor to create instance of Generator\n",
    "* link between random and probability\n",
    "* pseudo randomness and determinism\n",
    "\n",
    "[1] https://dataconomy.com/2017/12/random-data-can-benefit-business/"
   ]
  },
  {
   "cell_type": "markdown",
   "metadata": {},
   "source": [
    "## The simple random data functions\n",
    "***"
   ]
  },
  {
   "cell_type": "markdown",
   "metadata": {},
   "source": [
    "### 1. integers method\n",
    "Returns random integers from the interval passed. It takes 5 parameters (4 are optional). These are explored below:"
   ]
  },
  {
   "cell_type": "markdown",
   "metadata": {},
   "source": [
    "Firstly, the numpy library is imported. This provides the full range of tools necessary to fully investigate the package. matplotlib.pyplot is also important for visualisation"
   ]
  },
  {
   "cell_type": "code",
   "execution_count": 1,
   "metadata": {},
   "outputs": [],
   "source": [
    "import numpy as np\n",
    "import matplotlib.pyplot as plt"
   ]
  },
  {
   "cell_type": "markdown",
   "metadata": {},
   "source": [
    "Next, the `default_rng()` function is called. This constructs a new Generator, providing access to a range of methods and distributions. "
   ]
  },
  {
   "cell_type": "code",
   "execution_count": 2,
   "metadata": {},
   "outputs": [],
   "source": [
    "rng = np.random.default_rng()"
   ]
  },
  {
   "cell_type": "markdown",
   "metadata": {},
   "source": [
    "##### Parameter 1: *low*\n",
    "This will be the lowest integer returned. If `high=None`, the integer passed is used as the *high* value and *low* is 0"
   ]
  },
  {
   "cell_type": "code",
   "execution_count": 3,
   "metadata": {},
   "outputs": [
    {
     "data": {
      "text/plain": [
       "3"
      ]
     },
     "execution_count": 3,
     "metadata": {},
     "output_type": "execute_result"
    }
   ],
   "source": [
    "# Generate one random integer between 0 and 10 exclusive\n",
    "rng.integers(low=10)"
   ]
  },
  {
   "cell_type": "code",
   "execution_count": 4,
   "metadata": {},
   "outputs": [
    {
     "data": {
      "text/plain": [
       "array([3, 3, 9], dtype=int64)"
      ]
     },
     "execution_count": 4,
     "metadata": {},
     "output_type": "execute_result"
    }
   ],
   "source": [
    "# Generate array of inetegers with 3 different lower bounds\n",
    "rng.integers([1, 3, 8], 10)"
   ]
  },
  {
   "cell_type": "markdown",
   "metadata": {},
   "source": [
    "##### Parameter 2: high\n",
    "This int value is the upper endpoint of the interval passed. Unless `endpoint=True`, the value for *high* will be excluded from the returned integers"
   ]
  },
  {
   "cell_type": "code",
   "execution_count": 5,
   "metadata": {},
   "outputs": [
    {
     "data": {
      "text/plain": [
       "1"
      ]
     },
     "execution_count": 5,
     "metadata": {},
     "output_type": "execute_result"
    }
   ],
   "source": [
    "# Generate one random integer between 1 and 10 exclusive\n",
    "rng.integers(low=1, high=10)"
   ]
  },
  {
   "cell_type": "code",
   "execution_count": 6,
   "metadata": {},
   "outputs": [
    {
     "data": {
      "text/plain": [
       "array([1, 3, 2, 1, 8], dtype=int64)"
      ]
     },
     "execution_count": 6,
     "metadata": {},
     "output_type": "execute_result"
    }
   ],
   "source": [
    "# Generate array of inetegers with 5 different upper bounds exclusive\n",
    "rng.integers(1, [2, 5, 10, 8, 9])"
   ]
  },
  {
   "cell_type": "markdown",
   "metadata": {},
   "source": [
    "##### Parameter 3: size\n",
    "The *size* parameter determines the shape of the array of integers returned. It takes int values or tuples of int values"
   ]
  },
  {
   "cell_type": "code",
   "execution_count": 7,
   "metadata": {},
   "outputs": [
    {
     "data": {
      "text/plain": [
       "array([8, 4], dtype=int64)"
      ]
     },
     "execution_count": 7,
     "metadata": {},
     "output_type": "execute_result"
    }
   ],
   "source": [
    "# Generate a 1d array with 2 values between 1 and 10 exclusive\n",
    "rng.integers(low=1, high=10, size=(2))"
   ]
  },
  {
   "cell_type": "code",
   "execution_count": 8,
   "metadata": {},
   "outputs": [
    {
     "data": {
      "text/plain": [
       "array([[4, 8, 6],\n",
       "       [3, 1, 5]], dtype=int64)"
      ]
     },
     "execution_count": 8,
     "metadata": {},
     "output_type": "execute_result"
    }
   ],
   "source": [
    "# Generate a 2d array of 2 rows and 3 columns with values between 1 and 10 exclusive\n",
    "rng.integers(1, 10, (2, 3))"
   ]
  },
  {
   "cell_type": "code",
   "execution_count": 9,
   "metadata": {},
   "outputs": [
    {
     "data": {
      "text/plain": [
       "array([[[2, 6, 7, 9],\n",
       "        [8, 2, 6, 4],\n",
       "        [7, 9, 7, 1]],\n",
       "\n",
       "       [[8, 6, 2, 2],\n",
       "        [3, 1, 5, 2],\n",
       "        [4, 7, 8, 9]]], dtype=int64)"
      ]
     },
     "execution_count": 9,
     "metadata": {},
     "output_type": "execute_result"
    }
   ],
   "source": [
    "# Generate a 3d array with values between 1 and 10 exclusive\n",
    "rng.integers(1, 10, (2, 3, 4))"
   ]
  },
  {
   "cell_type": "markdown",
   "metadata": {},
   "source": [
    "##### Parameter 4: dtype\n",
    "Specifies the desired datatype of the result. The dtype must be supported for integers."
   ]
  },
  {
   "cell_type": "code",
   "execution_count": 10,
   "metadata": {},
   "outputs": [
    {
     "data": {
      "text/plain": [
       "array([[ True,  True, False],\n",
       "       [False, False, False]])"
      ]
     },
     "execution_count": 10,
     "metadata": {},
     "output_type": "execute_result"
    }
   ],
   "source": [
    "# Generate a 2d array of boolean values between 0 and 2 , exclusive\n",
    "rng.integers(0, 2, (2, 3), dtype=np.bool_)"
   ]
  },
  {
   "cell_type": "code",
   "execution_count": 11,
   "metadata": {},
   "outputs": [
    {
     "data": {
      "text/plain": [
       "array([[4, 3, 4],\n",
       "       [7, 2, 4]], dtype=uint32)"
      ]
     },
     "execution_count": 11,
     "metadata": {},
     "output_type": "execute_result"
    }
   ],
   "source": [
    "# Generate a 2d array of 32-bit unsigned integer values (0 to 4294967295)\n",
    "rng.integers(1, 10, (2, 3), dtype=np.uint32)"
   ]
  },
  {
   "cell_type": "code",
   "execution_count": 12,
   "metadata": {},
   "outputs": [
    {
     "data": {
      "text/plain": [
       "array([[203, 154,  32],\n",
       "       [ 34, 149, 191]], dtype=uint8)"
      ]
     },
     "execution_count": 12,
     "metadata": {},
     "output_type": "execute_result"
    }
   ],
   "source": [
    "# Generate a 2d array of 8-bit unsigned integer values (0 to 255)\n",
    "rng.integers(1, 256, (2, 3), dtype=np.uint8)"
   ]
  },
  {
   "cell_type": "markdown",
   "metadata": {},
   "source": [
    "##### Parameter 5: endpoint\n",
    "Determines the upper enpoint of the interval. If endpoint=True, result is *high* inclusive. If endpoint=False, *high* is excluded from result. Default is False."
   ]
  },
  {
   "cell_type": "code",
   "execution_count": 13,
   "metadata": {},
   "outputs": [
    {
     "data": {
      "text/plain": [
       "array([ 8,  4,  8,  9,  4, 10,  3,  4,  7,  1], dtype=int64)"
      ]
     },
     "execution_count": 13,
     "metadata": {},
     "output_type": "execute_result"
    }
   ],
   "source": [
    "# Returns integers between 1 and 10, inclusive\n",
    "rng.integers(1, 10, 10, endpoint=True)"
   ]
  },
  {
   "cell_type": "markdown",
   "metadata": {},
   "source": [
    "### 2. random method\n",
    "Returns random floating point values in the half-open interval [0.0, 1.0)"
   ]
  },
  {
   "cell_type": "code",
   "execution_count": 14,
   "metadata": {},
   "outputs": [
    {
     "data": {
      "text/plain": [
       "0.8386033516808692"
      ]
     },
     "execution_count": 14,
     "metadata": {},
     "output_type": "execute_result"
    }
   ],
   "source": [
    "# Generate a floating point number bewteen 0.0 and 1.0\n",
    "rng.random()"
   ]
  },
  {
   "cell_type": "markdown",
   "metadata": {},
   "source": [
    "##### Parameter 1: size\n",
    "Determines the shape of the array returned. Takes ints or tuples of ints."
   ]
  },
  {
   "cell_type": "code",
   "execution_count": 15,
   "metadata": {},
   "outputs": [
    {
     "data": {
      "text/plain": [
       "array([0.81753887, 0.19232679, 0.35787638, 0.91038015, 0.88987412])"
      ]
     },
     "execution_count": 15,
     "metadata": {},
     "output_type": "execute_result"
    }
   ],
   "source": [
    "# Generate a 1d array of 5 values between 0.0 and 1.0\n",
    "rng.random(5)"
   ]
  },
  {
   "cell_type": "code",
   "execution_count": 16,
   "metadata": {},
   "outputs": [
    {
     "data": {
      "text/plain": [
       "array([[0.46015348, 0.14988115],\n",
       "       [0.75513834, 0.60443957],\n",
       "       [0.76772603, 0.3167575 ],\n",
       "       [0.21403033, 0.59698482],\n",
       "       [0.5955306 , 0.1231591 ]])"
      ]
     },
     "execution_count": 16,
     "metadata": {},
     "output_type": "execute_result"
    }
   ],
   "source": [
    "# Three-by-two array of random numbers between 0.0 and 1.0\n",
    "rng.random((5, 2))"
   ]
  },
  {
   "cell_type": "markdown",
   "metadata": {},
   "source": [
    "##### Parameter 2: dtype\n",
    "Specifies the desired datatype of the result."
   ]
  },
  {
   "cell_type": "code",
   "execution_count": 17,
   "metadata": {},
   "outputs": [
    {
     "data": {
      "text/plain": [
       "array([[0.574736  , 0.45412815],\n",
       "       [0.9276489 , 0.9692979 ],\n",
       "       [0.25975442, 0.5024679 ],\n",
       "       [0.89693975, 0.15481663],\n",
       "       [0.48144662, 0.33154917]], dtype=float32)"
      ]
     },
     "execution_count": 17,
     "metadata": {},
     "output_type": "execute_result"
    }
   ],
   "source": [
    "##### Generate 2d array of 32-bit float values\n",
    "rng.random((5, 2), dtype=np.float32)"
   ]
  },
  {
   "cell_type": "markdown",
   "metadata": {},
   "source": [
    "##### Parameter 3: out\n",
    "Alternative array in which to put result"
   ]
  },
  {
   "cell_type": "code",
   "execution_count": 18,
   "metadata": {},
   "outputs": [
    {
     "data": {
      "text/plain": [
       "array([[0.09563252, 0.1476804 ],\n",
       "       [0.3427418 , 0.24219113],\n",
       "       [0.26080254, 0.34911774],\n",
       "       [0.19415535, 0.27194053],\n",
       "       [0.65136892, 0.23672247]])"
      ]
     },
     "execution_count": 18,
     "metadata": {},
     "output_type": "execute_result"
    }
   ],
   "source": [
    "rng.random((5, 2), out=None)"
   ]
  },
  {
   "cell_type": "markdown",
   "metadata": {},
   "source": [
    "We can generate random floating point values outside of the interval [0.0, 1.0] using simple arithmetic: `(b-a) * random() + a`"
   ]
  },
  {
   "cell_type": "code",
   "execution_count": 19,
   "metadata": {},
   "outputs": [
    {
     "data": {
      "text/plain": [
       "array([[6.012987  , 7.09620329, 8.70842312],\n",
       "       [7.60586167, 8.00381054, 5.03422546],\n",
       "       [5.73863909, 6.62970116, 8.31668718],\n",
       "       [8.1055618 , 6.74473998, 5.48464736]])"
      ]
     },
     "execution_count": 19,
     "metadata": {},
     "output_type": "execute_result"
    }
   ],
   "source": [
    "# Generate four-by-three array of floating point values between 5 and 10\n",
    "a = 5\n",
    "b = 10\n",
    "\n",
    "(b - a) * rng.random((4, 3)) + a"
   ]
  },
  {
   "cell_type": "markdown",
   "metadata": {},
   "source": [
    "### 3. choice method\n",
    "Generates a random sample from a given 1d array"
   ]
  },
  {
   "cell_type": "markdown",
   "metadata": {},
   "source": [
    "##### Parameter 1: a\n",
    "Takes either a ndarray or an int. A random sample is generated from the elements in the array or if a=*int*, it is generated from np.arange(a)"
   ]
  },
  {
   "cell_type": "code",
   "execution_count": 20,
   "metadata": {},
   "outputs": [
    {
     "data": {
      "text/plain": [
       "3"
      ]
     },
     "execution_count": 20,
     "metadata": {},
     "output_type": "execute_result"
    }
   ],
   "source": [
    "# Generate random sample with int. This is generated from the np.arange() method\n",
    "rng.choice(a=5)"
   ]
  },
  {
   "cell_type": "code",
   "execution_count": 21,
   "metadata": {},
   "outputs": [
    {
     "data": {
      "text/plain": [
       "7"
      ]
     },
     "execution_count": 21,
     "metadata": {},
     "output_type": "execute_result"
    }
   ],
   "source": [
    "# Generate random sample from array\n",
    "rng.choice([2, 5, 7, 8])"
   ]
  },
  {
   "cell_type": "markdown",
   "metadata": {},
   "source": [
    "##### Parameter 2: size\n",
    "Determines the shape of the output. *size* can take an int or a tuple of ints"
   ]
  },
  {
   "cell_type": "code",
   "execution_count": 22,
   "metadata": {},
   "outputs": [
    {
     "data": {
      "text/plain": [
       "array(['eight', 'five', 'two'], dtype='<U5')"
      ]
     },
     "execution_count": 22,
     "metadata": {},
     "output_type": "execute_result"
    }
   ],
   "source": [
    "# Generate array with 3 elements from array passed\n",
    "rng.choice(['two', 'five', 'seven', 'eight'], size=3)"
   ]
  },
  {
   "cell_type": "code",
   "execution_count": 23,
   "metadata": {},
   "outputs": [
    {
     "data": {
      "text/plain": [
       "array([[2, 7],\n",
       "       [8, 7],\n",
       "       [2, 7]])"
      ]
     },
     "execution_count": 23,
     "metadata": {},
     "output_type": "execute_result"
    }
   ],
   "source": [
    "# Generate a three-by-two array of random integers from array passed\n",
    "rng.choice([2, 5, 7, 8], size=(3, 2))"
   ]
  },
  {
   "cell_type": "code",
   "execution_count": 24,
   "metadata": {},
   "outputs": [
    {
     "data": {
      "text/plain": [
       "array([24, 20, 14,  9, 47, 27, 18, 18, 45, 35, 29, 24, 48, 31, 11, 15, 35,\n",
       "       19, 44, 28, 11, 35, 24, 22,  6, 45, 47, 31,  5, 18, 18, 27, 25, 15,\n",
       "       31, 37, 48, 32, 39, 49, 11, 31, 17, 46, 39, 46, 41, 38, 22, 26, 14,\n",
       "       13,  4, 44, 15,  5, 20,  3,  4, 31, 18, 21, 39, 49,  3, 32, 35, 43,\n",
       "       28, 10, 32,  7, 49, 32, 41,  7, 30, 13, 19, 39, 41, 28, 46, 47, 23,\n",
       "        7, 48, 11, 24, 46, 30, 29,  5, 25, 40, 17, 28, 12,  5, 40],\n",
       "      dtype=int64)"
      ]
     },
     "execution_count": 24,
     "metadata": {},
     "output_type": "execute_result"
    }
   ],
   "source": [
    "# Generate array with 100 elements from randomly generated array\n",
    "\n",
    "# Generate random array of integers\n",
    "rand_arr = rng.integers(2, 50, 100)\n",
    "\n",
    "rng.choice(rand_arr, len(rand_arr))\n",
    "rand_arr"
   ]
  },
  {
   "cell_type": "markdown",
   "metadata": {},
   "source": [
    "##### Parameter 3: replace\n",
    "If `replace=False` elements from the array passed are not replaced in the output array"
   ]
  },
  {
   "cell_type": "code",
   "execution_count": 25,
   "metadata": {},
   "outputs": [
    {
     "data": {
      "text/plain": [
       "array([2, 8, 7, 5])"
      ]
     },
     "execution_count": 25,
     "metadata": {},
     "output_type": "execute_result"
    }
   ],
   "source": [
    "# Generate array without replacement\n",
    "rng.choice([2, 5, 7, 8], size=(4), replace=False)"
   ]
  },
  {
   "cell_type": "markdown",
   "metadata": {},
   "source": [
    "##### Parameter 4: p\n",
    "Assigns the probabilities associated with each element of *a*. *p* values must add up to 1"
   ]
  },
  {
   "cell_type": "code",
   "execution_count": 26,
   "metadata": {},
   "outputs": [
    {
     "data": {
      "text/plain": [
       "(array([2001.,    0.,    0.,    0.,    0., 5048.,    0.,    0., 1929.,\n",
       "        1022.]),\n",
       " array([2. , 2.6, 3.2, 3.8, 4.4, 5. , 5.6, 6.2, 6.8, 7.4, 8. ]),\n",
       " <a list of 10 Patch objects>)"
      ]
     },
     "execution_count": 26,
     "metadata": {},
     "output_type": "execute_result"
    },
    {
     "data": {
      "image/png": "[encoded data removed]",
      "text/plain": [
       "<Figure size 432x288 with 1 Axes>"
      ]
     },
     "metadata": {
      "needs_background": "light"
     },
     "output_type": "display_data"
    }
   ],
   "source": [
    "# Generate array with probablities assigned to each element\n",
    "prob = rng.choice([2, 5, 7, 8], size=(10000), p=[0.2, 0.5, 0.2, 0.1])\n",
    "\n",
    "# Plot this on a histogram to visualize results\n",
    "plt.hist(prob)"
   ]
  },
  {
   "cell_type": "markdown",
   "metadata": {},
   "source": [
    "##### Parameter 5: axis\n",
    "Selects the array axis to generate from "
   ]
  },
  {
   "cell_type": "code",
   "execution_count": 27,
   "metadata": {},
   "outputs": [
    {
     "data": {
      "text/plain": [
       "array([5, 6, 7, 8])"
      ]
     },
     "execution_count": 27,
     "metadata": {},
     "output_type": "execute_result"
    }
   ],
   "source": [
    "# Generate array of random integers when axis=0\n",
    "rng.choice(([1, 2, 3, 4], [5, 6, 7, 8], [9, 10, 11, 12]), axis=0)"
   ]
  },
  {
   "cell_type": "code",
   "execution_count": 28,
   "metadata": {},
   "outputs": [
    {
     "data": {
      "text/plain": [
       "array([ 3,  7, 11])"
      ]
     },
     "execution_count": 28,
     "metadata": {},
     "output_type": "execute_result"
    }
   ],
   "source": [
    "# Generate array of random integers when axis=1\n",
    "rng.choice(([1, 2, 3, 4], [5, 6, 7, 8], [9, 10, 11, 12]), axis=1)"
   ]
  },
  {
   "cell_type": "markdown",
   "metadata": {},
   "source": [
    "### 4. bytes method\n",
    "Returns random bytes"
   ]
  },
  {
   "cell_type": "markdown",
   "metadata": {},
   "source": [
    "##### Parameter: length\n",
    "Specifies number of bytes to be generated"
   ]
  },
  {
   "cell_type": "code",
   "execution_count": 29,
   "metadata": {},
   "outputs": [
    {
     "data": {
      "text/plain": [
       "b'\\xf6aFw`\\xad`\\xe8\\xc9v\\x16A\\x15rz\\xa2\\x95\\xabe\\x84\\x83_>A\\xadb\\x0cn\\xe0\\xd9`\\xec]~\\xfc\\x84\\x8b\\t+i\\x9d\\x00nJ\\xa1k\\x19\\x89{\\xbd\\x90\\x122W\\xf0\\xfe\\x077\\x92\\x95C\\xfaO\\xf8\\xd4\\xc4\\xe1\\xa0\\xd2\\xae.\\x1f\\xc1\\x14\\xe1\\x8fg\\xd1\\x9b\\x9c\\x07\\x1b\\xd4\\xfbe\\xa0\\xc1\\x88<\\x98p\\t\\x9e\\x0f\\xa5!\\xe6\\x8fOq'"
      ]
     },
     "execution_count": 29,
     "metadata": {},
     "output_type": "execute_result"
    }
   ],
   "source": [
    "# Generate 100 random bytes\n",
    "np.random.default_rng().bytes(100)"
   ]
  },
  {
   "cell_type": "markdown",
   "metadata": {},
   "source": [
    "## Permutations\n",
    "***"
   ]
  },
  {
   "cell_type": "markdown",
   "metadata": {},
   "source": [
    "### 1. Shuffle\n",
    "Shuffles contents of array-like objects passed. The order is changed but the contents remain the same."
   ]
  },
  {
   "cell_type": "markdown",
   "metadata": {},
   "source": [
    "##### Parameter 1: x\n",
    "Takes a ndarray for content shuffle"
   ]
  },
  {
   "cell_type": "code",
   "execution_count": 30,
   "metadata": {},
   "outputs": [
    {
     "data": {
      "text/plain": [
       "array([1, 8, 4, 6, 4, 5, 1, 1, 9, 1], dtype=int64)"
      ]
     },
     "execution_count": 30,
     "metadata": {},
     "output_type": "execute_result"
    }
   ],
   "source": [
    "# Generate array of random integers from 1-9\n",
    "arr = rng.integers(1, 10, 10)\n",
    "\n",
    "# Call the shuffle method\n",
    "rng.shuffle(arr)\n",
    "\n",
    "# Output shuffled array\n",
    "arr"
   ]
  },
  {
   "cell_type": "markdown",
   "metadata": {},
   "source": [
    "##### Parameter 2: axis\n",
    "Selects the array axis on which to shuffle"
   ]
  },
  {
   "cell_type": "code",
   "execution_count": 31,
   "metadata": {},
   "outputs": [
    {
     "data": {
      "text/plain": [
       "array([[[7, 5, 9, 1],\n",
       "        [4, 4, 7, 1],\n",
       "        [6, 1, 9, 9]],\n",
       "\n",
       "       [[8, 9, 8, 8],\n",
       "        [2, 9, 7, 6],\n",
       "        [8, 1, 9, 6]]], dtype=int64)"
      ]
     },
     "execution_count": 31,
     "metadata": {},
     "output_type": "execute_result"
    }
   ],
   "source": [
    "# Generate 3d array of random inetegers and assign to variable arr1\n",
    "arr1 = rng.integers(1, 10, (2, 3, 4))\n",
    "\n",
    "# Pass array to shuffle method and set axis to 1\n",
    "rng.shuffle(arr1, axis=1)\n",
    "\n",
    "# Output shuffled array \n",
    "arr1"
   ]
  },
  {
   "cell_type": "markdown",
   "metadata": {},
   "source": [
    "### 2. Permutation\n",
    "Randomly permutes a sequence"
   ]
  },
  {
   "cell_type": "markdown",
   "metadata": {},
   "source": [
    "##### Parameter 1: x\n",
    "Takes an int or array"
   ]
  },
  {
   "cell_type": "code",
   "execution_count": 32,
   "metadata": {},
   "outputs": [
    {
     "data": {
      "text/plain": [
       "array([3, 9, 5, 7, 0, 8, 4, 1, 2, 6])"
      ]
     },
     "execution_count": 32,
     "metadata": {},
     "output_type": "execute_result"
    }
   ],
   "source": [
    "# When x is an int, np.arange(x) is randomly permuted\n",
    "rng.permutation(x=10)"
   ]
  },
  {
   "cell_type": "code",
   "execution_count": 33,
   "metadata": {},
   "outputs": [
    {
     "data": {
      "text/plain": [
       "array([[[8, 3, 6, 9],\n",
       "        [4, 4, 6, 6],\n",
       "        [5, 9, 1, 3]],\n",
       "\n",
       "       [[9, 5, 4, 8],\n",
       "        [7, 2, 4, 4],\n",
       "        [7, 6, 6, 5]]], dtype=int64)"
      ]
     },
     "execution_count": 33,
     "metadata": {},
     "output_type": "execute_result"
    }
   ],
   "source": [
    "# When x is an array, a shuffled copy of x is returned\n",
    "arr = rng.integers(1, 10, (2, 3, 4))\n",
    "\n",
    "rng.permutation(arr)"
   ]
  },
  {
   "cell_type": "markdown",
   "metadata": {},
   "source": [
    "##### Parameter 2: axis\n",
    "Selects the array axis on which to shuffle"
   ]
  },
  {
   "cell_type": "code",
   "execution_count": 34,
   "metadata": {},
   "outputs": [
    {
     "data": {
      "text/plain": [
       "array([[[4, 1, 4, 9],\n",
       "        [6, 1, 3, 6],\n",
       "        [2, 7, 2, 9]],\n",
       "\n",
       "       [[1, 1, 2, 5],\n",
       "        [9, 7, 8, 5],\n",
       "        [8, 8, 4, 8]]], dtype=int64)"
      ]
     },
     "execution_count": 34,
     "metadata": {},
     "output_type": "execute_result"
    }
   ],
   "source": [
    "arr = rng.integers(1, 10, (2, 3, 4))\n",
    "\n",
    "# Set axis=1\n",
    "rng.permutation(arr, axis=1)"
   ]
  },
  {
   "cell_type": "markdown",
   "metadata": {},
   "source": [
    "## Distributions\n",
    "***"
   ]
  },
  {
   "cell_type": "markdown",
   "metadata": {},
   "source": [
    "### 1. Normal\n",
    "***\n",
    "The normal distribution, also known as the Gaussian distribution or bell curve, is a continuous probability distribution which is often considered to be the most important in the field of statistics because of the frequency of its occurrence in the natural world [1]. The probability density function (pdf) of the normal distribution is expressed as:\n",
    "\n",
    "$$ f(x) = \\frac{1}{\\sigma\\sqrt{2\\pi}}e^{\\frac{-1}{2}(\\frac{x-\\mu}{\\sigma})}$$\n",
    "\n",
    "where $\\mu$ is the mean or median and $\\sigma$ is the standard deviation. The pdf gives the height of the curve at point $x$ [2]. Using the numpy.random package, we can draw random samples from a normal distribution through the random.Generator.normal method. The desired mean and standard deviation are passed as parameters to the function and a specified number of samples are derived."
   ]
  },
  {
   "cell_type": "markdown",
   "metadata": {},
   "source": [
    "##### Parameter 1: loc\n",
    "Takes a float or array of floats. This is the mean ($\\mu$) of the distribution"
   ]
  },
  {
   "cell_type": "markdown",
   "metadata": {},
   "source": [
    "##### Parameter 2: scale\n",
    "Takes a float or array of floats. This is the standard deviation ($\\sigma$) of the distribution"
   ]
  },
  {
   "cell_type": "markdown",
   "metadata": {},
   "source": [
    "##### Parameter 3: size\n",
    "Outputs the shape of the array. Default is `None` which outputs a single value"
   ]
  },
  {
   "cell_type": "code",
   "execution_count": 35,
   "metadata": {},
   "outputs": [
    {
     "data": {
      "text/plain": [
       "9.086731294981568"
      ]
     },
     "execution_count": 35,
     "metadata": {},
     "output_type": "execute_result"
    }
   ],
   "source": [
    "# Return a single sample value from a normally distributed variable with mean=5 and standard deviation=3\n",
    "rng.normal(loc=5, scale=3)"
   ]
  },
  {
   "cell_type": "code",
   "execution_count": 36,
   "metadata": {},
   "outputs": [
    {
     "data": {
      "text/plain": [
       "array([-1.58108543, -4.1251314 ,  9.49360394,  1.95663582,  8.10973957,\n",
       "        3.33837891,  4.26555024,  5.09881469, 11.03252411,  4.03680995,\n",
       "        0.4641584 ,  7.3599756 ,  7.9254139 ,  3.34184168,  5.56949896,\n",
       "        7.92395   ,  5.23613495,  7.89062166,  4.00007705,  7.10061722,\n",
       "        4.81599395,  3.98926746,  4.48331009,  6.02883498,  2.23115648,\n",
       "        8.91451172,  4.41216636,  3.41860296,  4.72667926,  3.6667923 ,\n",
       "        8.07673923,  1.23379658,  1.18869985, 12.39732812, 10.71601224,\n",
       "        6.76210925,  4.86327107,  5.02928129,  4.70912476,  5.56133381,\n",
       "        6.93759125,  4.97537805,  5.76157169,  2.93973706,  4.56166722,\n",
       "        3.97704196,  7.81667186, 10.32486004,  3.03623695,  4.19270417])"
      ]
     },
     "execution_count": 36,
     "metadata": {},
     "output_type": "execute_result"
    }
   ],
   "source": [
    "# Return a 1d array of 50 values of a normally distributed random variable with mean=5 and standard deviation=3\n",
    "s = rng.normal(loc=5, scale=3, size=50)\n",
    "s"
   ]
  },
  {
   "cell_type": "code",
   "execution_count": 37,
   "metadata": {},
   "outputs": [
    {
     "data": {
      "text/plain": [
       "(array([ 1.,  1.,  1.,  4., 10., 16.,  5.,  7.,  3.,  2.]),\n",
       " array([-4.1251314 , -2.47288544, -0.82063949,  0.83160646,  2.48385241,\n",
       "         4.13609836,  5.78834431,  7.44059027,  9.09283622, 10.74508217,\n",
       "        12.39732812]),\n",
       " <a list of 10 Patch objects>)"
      ]
     },
     "execution_count": 37,
     "metadata": {},
     "output_type": "execute_result"
    },
    {
     "data": {
      "image/png": "[encoded data removed]",
      "text/plain": [
       "<Figure size 432x288 with 1 Axes>"
      ]
     },
     "metadata": {
      "needs_background": "light"
     },
     "output_type": "display_data"
    }
   ],
   "source": [
    "# Plot the distribution using a histogram\n",
    "plt.hist(s)"
   ]
  },
  {
   "cell_type": "code",
   "execution_count": 38,
   "metadata": {},
   "outputs": [
    {
     "data": {
      "text/plain": [
       "(array([  2.,  15.,  62., 153., 246., 241., 172.,  84.,  17.,   8.]),\n",
       " array([-4.97581849, -3.0238787 , -1.07193891,  0.88000089,  2.83194068,\n",
       "         4.78388047,  6.73582026,  8.68776006, 10.63969985, 12.59163964,\n",
       "        14.54357944]),\n",
       " <a list of 10 Patch objects>)"
      ]
     },
     "execution_count": 38,
     "metadata": {},
     "output_type": "execute_result"
    },
    {
     "data": {
      "image/png": "[encoded data removed]",
      "text/plain": [
       "<Figure size 432x288 with 1 Axes>"
      ]
     },
     "metadata": {
      "needs_background": "light"
     },
     "output_type": "display_data"
    }
   ],
   "source": [
    "# The more samples we plot, the more the histogram resembles the classic bell curve shape\n",
    "s = rng.normal(loc=5, scale=3, size=1000)\n",
    "plt.hist(s)"
   ]
  },
  {
   "cell_type": "code",
   "execution_count": 39,
   "metadata": {},
   "outputs": [
    {
     "data": {
      "text/plain": [
       "1.0536928013656606"
      ]
     },
     "execution_count": 39,
     "metadata": {},
     "output_type": "execute_result"
    }
   ],
   "source": [
    "mu, sigma = 1, 0.1\n",
    "\n",
    "s = np.random.default_rng().normal(mu, sigma)\n",
    "s"
   ]
  },
  {
   "cell_type": "code",
   "execution_count": null,
   "metadata": {},
   "outputs": [],
   "source": []
  },
  {
   "cell_type": "code",
   "execution_count": null,
   "metadata": {},
   "outputs": [],
   "source": []
  },
  {
   "cell_type": "code",
   "execution_count": null,
   "metadata": {},
   "outputs": [],
   "source": []
  }
 ],
 "metadata": {
  "kernelspec": {
   "display_name": "Python 3",
   "language": "python",
   "name": "python3"
  },
  "language_info": {
   "codemirror_mode": {
    "name": "ipython",
    "version": 3
   },
   "file_extension": ".py",
   "mimetype": "text/x-python",
   "name": "python",
   "nbconvert_exporter": "python",
   "pygments_lexer": "ipython3",
   "version": "3.8.3"
  }
 },
 "nbformat": 4,
 "nbformat_minor": 4
}
