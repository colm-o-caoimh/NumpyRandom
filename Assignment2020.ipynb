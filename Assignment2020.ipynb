{
 "cells": [
  {
   "cell_type": "markdown",
   "metadata": {},
   "source": [
    "# Assignment 2020: Investigating the numpy.random package\n",
    "***"
   ]
  },
  {
   "cell_type": "markdown",
   "metadata": {},
   "source": [
    "## The Overall Purpose of the Package\n",
    "***\n",
    "The generation of random numbers by computers has many important uses in numerous different real-world contexts. These range from the generation of truly random numbers in the areas of encryption and online gambling, to the ability to generate pseudo random numbers for simluation and modelling applications [1]. In Python programming, the Numpy library provides the `random` [package](https://numpy.org/doc/stable/reference/random/index.html) which allows developers to work with pseudo random numbers.\n",
    "\n",
    "###### (further investigation)\n",
    "* Generator and BitGenerator\n",
    "* default_rng constructor to create instance of Generator\n",
    "* link between random and probability\n",
    "* pseudo randomness and determinism\n",
    "\n",
    "[1] https://dataconomy.com/2017/12/random-data-can-benefit-business/"
   ]
  },
  {
   "cell_type": "markdown",
   "metadata": {},
   "source": [
    "## The simple random data functions\n",
    "***"
   ]
  },
  {
   "cell_type": "markdown",
   "metadata": {},
   "source": [
    "### 1. integers method\n",
    "Returns random integers from the interval passed. It takes 5 parameters (4 are optional). These are explored below:"
   ]
  },
  {
   "cell_type": "markdown",
   "metadata": {},
   "source": [
    "Firstly, the numpy library is imported. This provides the full range of tools necessary to fully investigate the package. matplotlib.pyplot is also important for visualisation"
   ]
  },
  {
   "cell_type": "code",
   "execution_count": 1,
   "metadata": {},
   "outputs": [],
   "source": [
    "import numpy as np\n",
    "import matplotlib.pyplot as plt"
   ]
  },
  {
   "cell_type": "markdown",
   "metadata": {},
   "source": [
    "Next, the `default_rng()` function is called. This constructs a new Generator, providing access to a range of methods and distributions. "
   ]
  },
  {
   "cell_type": "code",
   "execution_count": 2,
   "metadata": {},
   "outputs": [],
   "source": [
    "rng = np.random.default_rng()"
   ]
  },
  {
   "cell_type": "markdown",
   "metadata": {},
   "source": [
    "##### Parameter 1: *low*\n",
    "This will be the lowest integer returned. If `high=None`, the integer passed is used as the *high* value and *low* is 0"
   ]
  },
  {
   "cell_type": "code",
   "execution_count": 3,
   "metadata": {},
   "outputs": [
    {
     "data": {
      "text/plain": [
       "0"
      ]
     },
     "execution_count": 3,
     "metadata": {},
     "output_type": "execute_result"
    }
   ],
   "source": [
    "# Generate one random integer between 0 and 10 exclusive\n",
    "rng.integers(low=10)"
   ]
  },
  {
   "cell_type": "code",
   "execution_count": 4,
   "metadata": {},
   "outputs": [
    {
     "data": {
      "text/plain": [
       "array([9, 7, 8], dtype=int64)"
      ]
     },
     "execution_count": 4,
     "metadata": {},
     "output_type": "execute_result"
    }
   ],
   "source": [
    "# Generate array of inetegers with 3 different lower bounds\n",
    "rng.integers([1, 3, 8], 10)"
   ]
  },
  {
   "cell_type": "markdown",
   "metadata": {},
   "source": [
    "##### Parameter 2: high\n",
    "This int value is the upper endpoint of the interval passed. Unless `endpoint=True`, the value for *high* will be excluded from the returned integers"
   ]
  },
  {
   "cell_type": "code",
   "execution_count": 5,
   "metadata": {},
   "outputs": [
    {
     "data": {
      "text/plain": [
       "7"
      ]
     },
     "execution_count": 5,
     "metadata": {},
     "output_type": "execute_result"
    }
   ],
   "source": [
    "# Generate one random integer between 1 and 10 exclusive\n",
    "rng.integers(low=1, high=10)"
   ]
  },
  {
   "cell_type": "code",
   "execution_count": 6,
   "metadata": {},
   "outputs": [
    {
     "data": {
      "text/plain": [
       "array([1, 3, 6, 3, 2], dtype=int64)"
      ]
     },
     "execution_count": 6,
     "metadata": {},
     "output_type": "execute_result"
    }
   ],
   "source": [
    "# Generate array of inetegers with 5 different upper bounds exclusive\n",
    "rng.integers(1, [2, 5, 10, 8, 9])"
   ]
  },
  {
   "cell_type": "markdown",
   "metadata": {},
   "source": [
    "##### Parameter 3: size\n",
    "The *size* parameter determines the shape of the array of integers returned. It takes int values or tuples of int values"
   ]
  },
  {
   "cell_type": "code",
   "execution_count": 7,
   "metadata": {},
   "outputs": [
    {
     "data": {
      "text/plain": [
       "array([5, 7], dtype=int64)"
      ]
     },
     "execution_count": 7,
     "metadata": {},
     "output_type": "execute_result"
    }
   ],
   "source": [
    "# Generate a 1d array with 2 values between 1 and 10 exclusive\n",
    "rng.integers(low=1, high=10, size=(2))"
   ]
  },
  {
   "cell_type": "code",
   "execution_count": 8,
   "metadata": {},
   "outputs": [
    {
     "data": {
      "text/plain": [
       "array([[4, 3, 6],\n",
       "       [4, 9, 8]], dtype=int64)"
      ]
     },
     "execution_count": 8,
     "metadata": {},
     "output_type": "execute_result"
    }
   ],
   "source": [
    "# Generate a 2d array of 2 rows and 3 columns with values between 1 and 10 exclusive\n",
    "rng.integers(1, 10, (2, 3))"
   ]
  },
  {
   "cell_type": "code",
   "execution_count": 9,
   "metadata": {},
   "outputs": [
    {
     "data": {
      "text/plain": [
       "array([[[4, 1, 1, 6],\n",
       "        [8, 4, 1, 5],\n",
       "        [5, 9, 9, 8]],\n",
       "\n",
       "       [[4, 2, 3, 3],\n",
       "        [4, 9, 9, 9],\n",
       "        [1, 3, 5, 6]]], dtype=int64)"
      ]
     },
     "execution_count": 9,
     "metadata": {},
     "output_type": "execute_result"
    }
   ],
   "source": [
    "# Generate a 3d array with values between 1 and 10 exclusive\n",
    "rng.integers(1, 10, (2, 3, 4))"
   ]
  },
  {
   "cell_type": "markdown",
   "metadata": {},
   "source": [
    "##### Parameter 4: dtype\n",
    "Specifies the desired datatype of the result. The dtype must be supported for integers."
   ]
  },
  {
   "cell_type": "code",
   "execution_count": 10,
   "metadata": {},
   "outputs": [
    {
     "data": {
      "text/plain": [
       "array([[ True, False, False],\n",
       "       [ True,  True, False]])"
      ]
     },
     "execution_count": 10,
     "metadata": {},
     "output_type": "execute_result"
    }
   ],
   "source": [
    "# Generate a 2d array of boolean values between 0 and 2 , exclusive\n",
    "rng.integers(0, 2, (2, 3), dtype=np.bool_)"
   ]
  },
  {
   "cell_type": "code",
   "execution_count": 11,
   "metadata": {},
   "outputs": [
    {
     "data": {
      "text/plain": [
       "array([[9, 9, 5],\n",
       "       [9, 3, 9]], dtype=uint32)"
      ]
     },
     "execution_count": 11,
     "metadata": {},
     "output_type": "execute_result"
    }
   ],
   "source": [
    "# Generate a 2d array of 32-bit unsigned integer values (0 to 4294967295)\n",
    "rng.integers(1, 10, (2, 3), dtype=np.uint32)"
   ]
  },
  {
   "cell_type": "code",
   "execution_count": 12,
   "metadata": {},
   "outputs": [
    {
     "data": {
      "text/plain": [
       "array([[ 74, 252, 201],\n",
       "       [204, 158,  89]], dtype=uint8)"
      ]
     },
     "execution_count": 12,
     "metadata": {},
     "output_type": "execute_result"
    }
   ],
   "source": [
    "# Generate a 2d array of 8-bit unsigned integer values (0 to 255)\n",
    "rng.integers(1, 256, (2, 3), dtype=np.uint8)"
   ]
  },
  {
   "cell_type": "markdown",
   "metadata": {},
   "source": [
    "##### Parameter 5: endpoint\n",
    "Determines the upper enpoint of the interval. If endpoint=True, result is *high* inclusive. If endpoint=False, *high* is excluded from result. Default is False."
   ]
  },
  {
   "cell_type": "code",
   "execution_count": 13,
   "metadata": {},
   "outputs": [
    {
     "data": {
      "text/plain": [
       "array([4, 4, 1, 9, 8, 5, 5, 1, 6, 1], dtype=int64)"
      ]
     },
     "execution_count": 13,
     "metadata": {},
     "output_type": "execute_result"
    }
   ],
   "source": [
    "# Returns integers between 1 and 10, inclusive\n",
    "rng.integers(1, 10, 10, endpoint=True)"
   ]
  },
  {
   "cell_type": "markdown",
   "metadata": {},
   "source": [
    "### 2. random method\n",
    "Returns random floating point values in the half-open interval [0.0, 1.0)"
   ]
  },
  {
   "cell_type": "code",
   "execution_count": 14,
   "metadata": {},
   "outputs": [
    {
     "data": {
      "text/plain": [
       "0.06254249793663469"
      ]
     },
     "execution_count": 14,
     "metadata": {},
     "output_type": "execute_result"
    }
   ],
   "source": [
    "# Generate a floating point number bewteen 0.0 and 1.0\n",
    "rng.random()"
   ]
  },
  {
   "cell_type": "markdown",
   "metadata": {},
   "source": [
    "##### Parameter 1: size\n",
    "Determines the shape of the array returned. Takes ints or tuples of ints."
   ]
  },
  {
   "cell_type": "code",
   "execution_count": 15,
   "metadata": {},
   "outputs": [
    {
     "data": {
      "text/plain": [
       "array([0.38816094, 0.76106836, 0.67160373, 0.82741863, 0.45868967])"
      ]
     },
     "execution_count": 15,
     "metadata": {},
     "output_type": "execute_result"
    }
   ],
   "source": [
    "# Generate a 1d array of 5 values between 0.0 and 1.0\n",
    "rng.random(5)"
   ]
  },
  {
   "cell_type": "code",
   "execution_count": 16,
   "metadata": {},
   "outputs": [
    {
     "data": {
      "text/plain": [
       "array([[0.34204081, 0.79330631],\n",
       "       [0.63027478, 0.1152408 ],\n",
       "       [0.57079082, 0.65518061],\n",
       "       [0.24229258, 0.84709749],\n",
       "       [0.40460273, 0.18488282]])"
      ]
     },
     "execution_count": 16,
     "metadata": {},
     "output_type": "execute_result"
    }
   ],
   "source": [
    "# Three-by-two array of random numbers between 0.0 and 1.0\n",
    "rng.random((5, 2))"
   ]
  },
  {
   "cell_type": "markdown",
   "metadata": {},
   "source": [
    "##### Parameter 2: dtype\n",
    "Specifies the desired datatype of the result."
   ]
  },
  {
   "cell_type": "code",
   "execution_count": 17,
   "metadata": {},
   "outputs": [
    {
     "data": {
      "text/plain": [
       "array([[0.848524  , 0.7706318 ],\n",
       "       [0.08383083, 0.28708827],\n",
       "       [0.36661625, 0.06862426],\n",
       "       [0.71113646, 0.51383746],\n",
       "       [0.3984245 , 0.3923986 ]], dtype=float32)"
      ]
     },
     "execution_count": 17,
     "metadata": {},
     "output_type": "execute_result"
    }
   ],
   "source": [
    "##### Generate 2d array of 32-bit float values\n",
    "rng.random((5, 2), dtype=np.float32)"
   ]
  },
  {
   "cell_type": "markdown",
   "metadata": {},
   "source": [
    "##### Parameter 3: out\n",
    "Alternative array in which to put result"
   ]
  },
  {
   "cell_type": "code",
   "execution_count": 18,
   "metadata": {},
   "outputs": [
    {
     "data": {
      "text/plain": [
       "array([[0.50928282, 0.53154086],\n",
       "       [0.25154857, 0.48777107],\n",
       "       [0.84359934, 0.19936725],\n",
       "       [0.33428782, 0.79663955],\n",
       "       [0.31349821, 0.18255603]])"
      ]
     },
     "execution_count": 18,
     "metadata": {},
     "output_type": "execute_result"
    }
   ],
   "source": [
    "rng.random((5, 2), out=None)"
   ]
  },
  {
   "cell_type": "markdown",
   "metadata": {},
   "source": [
    "We can generate random floating point values outside of the interval [0.0, 1.0] using simple arithmetic: `(b-a) * random() + a`"
   ]
  },
  {
   "cell_type": "code",
   "execution_count": 19,
   "metadata": {},
   "outputs": [
    {
     "data": {
      "text/plain": [
       "array([[9.43291146, 9.22088854, 8.28026661],\n",
       "       [8.03262919, 5.47446441, 6.23793869],\n",
       "       [9.21113503, 9.94907737, 5.60453834],\n",
       "       [8.27609135, 6.92262344, 8.41331728]])"
      ]
     },
     "execution_count": 19,
     "metadata": {},
     "output_type": "execute_result"
    }
   ],
   "source": [
    "# Generate four-by-three array of floating point values between 5 and 10\n",
    "a = 5\n",
    "b = 10\n",
    "\n",
    "(b - a) * rng.random((4, 3)) + a"
   ]
  },
  {
   "cell_type": "markdown",
   "metadata": {},
   "source": [
    "### 3. choice method\n",
    "Generates a random sample from a given 1d array"
   ]
  },
  {
   "cell_type": "markdown",
   "metadata": {},
   "source": [
    "##### Parameter 1: a\n",
    "Takes either a ndarray or an int. A random sample is generated from the elements in the array or if a=*int*, it is generated from np.arange(a)"
   ]
  },
  {
   "cell_type": "code",
   "execution_count": 20,
   "metadata": {},
   "outputs": [
    {
     "data": {
      "text/plain": [
       "3"
      ]
     },
     "execution_count": 20,
     "metadata": {},
     "output_type": "execute_result"
    }
   ],
   "source": [
    "# Generate random sample with int. This is generated from the np.arange() method\n",
    "rng.choice(a=5)"
   ]
  },
  {
   "cell_type": "code",
   "execution_count": 21,
   "metadata": {},
   "outputs": [
    {
     "data": {
      "text/plain": [
       "5"
      ]
     },
     "execution_count": 21,
     "metadata": {},
     "output_type": "execute_result"
    }
   ],
   "source": [
    "# Generate random sample from array\n",
    "rng.choice([2, 5, 7, 8])"
   ]
  },
  {
   "cell_type": "markdown",
   "metadata": {},
   "source": [
    "##### Parameter 2: size\n",
    "Determines the shape of the output. *size* can take an int or a tuple of ints"
   ]
  },
  {
   "cell_type": "code",
   "execution_count": 22,
   "metadata": {},
   "outputs": [
    {
     "data": {
      "text/plain": [
       "array(['two', 'seven', 'seven'], dtype='<U5')"
      ]
     },
     "execution_count": 22,
     "metadata": {},
     "output_type": "execute_result"
    }
   ],
   "source": [
    "# Generate array with 3 elements from array passed\n",
    "rng.choice(['two', 'five', 'seven', 'eight'], size=3)"
   ]
  },
  {
   "cell_type": "code",
   "execution_count": 23,
   "metadata": {},
   "outputs": [
    {
     "data": {
      "text/plain": [
       "array([[5, 5],\n",
       "       [7, 7],\n",
       "       [5, 2]])"
      ]
     },
     "execution_count": 23,
     "metadata": {},
     "output_type": "execute_result"
    }
   ],
   "source": [
    "# Generate a three-by-two array of random integers from array passed\n",
    "rng.choice([2, 5, 7, 8], size=(3, 2))"
   ]
  },
  {
   "cell_type": "code",
   "execution_count": 24,
   "metadata": {},
   "outputs": [
    {
     "data": {
      "text/plain": [
       "array([20, 17, 34, 39, 41,  8,  8, 13, 47, 15, 19,  7, 30,  8,  6, 32, 10,\n",
       "       46, 48, 47, 40, 16, 17, 48, 45, 14, 19,  4, 13, 34, 14, 23, 34,  5,\n",
       "       22, 45, 28, 47, 14, 26, 11, 45, 38, 42, 25, 19, 47, 12, 18, 19, 43,\n",
       "       33, 25, 46,  3, 20, 36, 39, 21, 39, 23, 46, 39, 17, 16, 32, 44,  9,\n",
       "        3, 41, 34, 33,  2, 36, 41, 19, 10, 10, 15, 47, 18, 44,  9,  4,  5,\n",
       "       47, 17, 14, 37,  2, 26, 43, 45, 41,  4, 41,  5, 42, 30,  6],\n",
       "      dtype=int64)"
      ]
     },
     "execution_count": 24,
     "metadata": {},
     "output_type": "execute_result"
    }
   ],
   "source": [
    "# Generate array with 100 elements from randomly generated array\n",
    "\n",
    "# Generate random array of integers\n",
    "rand_arr = rng.integers(2, 50, 100)\n",
    "\n",
    "rng.choice(rand_arr, len(rand_arr))\n",
    "rand_arr"
   ]
  },
  {
   "cell_type": "markdown",
   "metadata": {},
   "source": [
    "##### Parameter 3: replace\n",
    "If `replace=False` elements from the array passed are not replaced in the output array"
   ]
  },
  {
   "cell_type": "code",
   "execution_count": 25,
   "metadata": {},
   "outputs": [
    {
     "data": {
      "text/plain": [
       "array([5, 7, 8, 2])"
      ]
     },
     "execution_count": 25,
     "metadata": {},
     "output_type": "execute_result"
    }
   ],
   "source": [
    "# Generate array without replacement\n",
    "rng.choice([2, 5, 7, 8], size=(4), replace=False)"
   ]
  },
  {
   "cell_type": "markdown",
   "metadata": {},
   "source": [
    "##### Parameter 4: p\n",
    "Assigns the probabilities associated with each element of *a*. *p* values must add up to 1"
   ]
  },
  {
   "cell_type": "code",
   "execution_count": 26,
   "metadata": {},
   "outputs": [
    {
     "data": {
      "text/plain": [
       "(array([1958.,    0.,    0.,    0.,    0., 4981.,    0.,    0., 2047.,\n",
       "        1014.]),\n",
       " array([2. , 2.6, 3.2, 3.8, 4.4, 5. , 5.6, 6.2, 6.8, 7.4, 8. ]),\n",
       " <a list of 10 Patch objects>)"
      ]
     },
     "execution_count": 26,
     "metadata": {},
     "output_type": "execute_result"
    },
    {
     "data": {
      "image/png": "[encoded data removed]",
      "text/plain": [
       "<Figure size 432x288 with 1 Axes>"
      ]
     },
     "metadata": {
      "needs_background": "light"
     },
     "output_type": "display_data"
    }
   ],
   "source": [
    "# Generate array with probablities assigned to each element\n",
    "prob = rng.choice([2, 5, 7, 8], size=(10000), p=[0.2, 0.5, 0.2, 0.1])\n",
    "\n",
    "# Plot this on a histogram to visualize results\n",
    "plt.hist(prob)"
   ]
  },
  {
   "cell_type": "markdown",
   "metadata": {},
   "source": [
    "##### Parameter 5: axis\n",
    "Selects the array axis to generate from "
   ]
  },
  {
   "cell_type": "code",
   "execution_count": 27,
   "metadata": {},
   "outputs": [
    {
     "data": {
      "text/plain": [
       "array([1, 2, 3, 4])"
      ]
     },
     "execution_count": 27,
     "metadata": {},
     "output_type": "execute_result"
    }
   ],
   "source": [
    "# Generate array of random integers when axis=0\n",
    "rng.choice(([1, 2, 3, 4], [5, 6, 7, 8], [9, 10, 11, 12]), axis=0)"
   ]
  },
  {
   "cell_type": "code",
   "execution_count": 28,
   "metadata": {},
   "outputs": [
    {
     "data": {
      "text/plain": [
       "array([1, 5, 9])"
      ]
     },
     "execution_count": 28,
     "metadata": {},
     "output_type": "execute_result"
    }
   ],
   "source": [
    "# Generate array of random integers when axis=1\n",
    "rng.choice(([1, 2, 3, 4], [5, 6, 7, 8], [9, 10, 11, 12]), axis=1)"
   ]
  },
  {
   "cell_type": "markdown",
   "metadata": {},
   "source": [
    "### 4. bytes method\n",
    "Returns random bytes"
   ]
  },
  {
   "cell_type": "markdown",
   "metadata": {},
   "source": [
    "##### Parameter: length\n",
    "Specifies number of bytes to be generated"
   ]
  },
  {
   "cell_type": "code",
   "execution_count": 29,
   "metadata": {},
   "outputs": [
    {
     "data": {
      "text/plain": [
       "b'\\xbdX\\xb5\\xdf%\\x8c\\xf5Z\\x80D\\x11\\x96\\x8bc[\\xe9;)r\\x15\\x98G\\xf3:\\x84\\x96\\x87\\xff1\\xcc\\xf6\"\\x7f\\x13\\xcb\\x95\\xfc\\xbb\\xc2\\xe5h\\xa2;;c\\x13U#\\x1d\\xa1\\xc2j\\xa9\\xba\\x13ET\\xb8\\x0c)\\'-E\\xebR\\x05\\xa3\\xee\\xe0lq\\x90r@\\xe8\\x90?i\\xa5\\xe0j\\xd0\\xd32\\x19\\xf6\\x13\\xd3\\x1b\\xdf\\xe9\\xce\\x84+\\xb9\\x7fo!}\\x97'"
      ]
     },
     "execution_count": 29,
     "metadata": {},
     "output_type": "execute_result"
    }
   ],
   "source": [
    "# Generate 100 random bytes\n",
    "np.random.default_rng().bytes(100)"
   ]
  },
  {
   "cell_type": "code",
   "execution_count": null,
   "metadata": {},
   "outputs": [],
   "source": []
  },
  {
   "cell_type": "code",
   "execution_count": null,
   "metadata": {},
   "outputs": [],
   "source": []
  },
  {
   "cell_type": "code",
   "execution_count": null,
   "metadata": {},
   "outputs": [],
   "source": []
  },
  {
   "cell_type": "code",
   "execution_count": null,
   "metadata": {},
   "outputs": [],
   "source": []
  },
  {
   "cell_type": "code",
   "execution_count": null,
   "metadata": {},
   "outputs": [],
   "source": []
  },
  {
   "cell_type": "code",
   "execution_count": null,
   "metadata": {},
   "outputs": [],
   "source": []
  },
  {
   "cell_type": "code",
   "execution_count": null,
   "metadata": {},
   "outputs": [],
   "source": []
  },
  {
   "cell_type": "code",
   "execution_count": null,
   "metadata": {},
   "outputs": [],
   "source": []
  },
  {
   "cell_type": "code",
   "execution_count": null,
   "metadata": {},
   "outputs": [],
   "source": []
  },
  {
   "cell_type": "code",
   "execution_count": null,
   "metadata": {},
   "outputs": [],
   "source": []
  },
  {
   "cell_type": "code",
   "execution_count": null,
   "metadata": {},
   "outputs": [],
   "source": []
  },
  {
   "cell_type": "code",
   "execution_count": null,
   "metadata": {},
   "outputs": [],
   "source": []
  },
  {
   "cell_type": "code",
   "execution_count": null,
   "metadata": {},
   "outputs": [],
   "source": []
  },
  {
   "cell_type": "code",
   "execution_count": null,
   "metadata": {},
   "outputs": [],
   "source": []
  },
  {
   "cell_type": "code",
   "execution_count": null,
   "metadata": {},
   "outputs": [],
   "source": []
  },
  {
   "cell_type": "code",
   "execution_count": null,
   "metadata": {},
   "outputs": [],
   "source": []
  },
  {
   "cell_type": "code",
   "execution_count": null,
   "metadata": {},
   "outputs": [],
   "source": []
  }
 ],
 "metadata": {
  "kernelspec": {
   "display_name": "Python 3",
   "language": "python",
   "name": "python3"
  },
  "language_info": {
   "codemirror_mode": {
    "name": "ipython",
    "version": 3
   },
   "file_extension": ".py",
   "mimetype": "text/x-python",
   "name": "python",
   "nbconvert_exporter": "python",
   "pygments_lexer": "ipython3",
   "version": "3.8.3"
  }
 },
 "nbformat": 4,
 "nbformat_minor": 4
}
