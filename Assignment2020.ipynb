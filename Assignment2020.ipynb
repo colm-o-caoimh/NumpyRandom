{
 "cells": [
  {
   "cell_type": "markdown",
   "metadata": {},
   "source": [
    "# Assignment 2020: Investigating the numpy.random package\n",
    "***"
   ]
  },
  {
   "cell_type": "markdown",
   "metadata": {},
   "source": [
    "## The Overall Purpose of the Package\n",
    "***\n",
    "The generation of random numbers by computers has many important uses in numerous different real-world contexts. These range from the generation of truly random numbers in the areas of encryption and online gambling, to the ability to generate pseudo random numbers for simluation and modelling applications [1]. In Python programming, the Numpy library provides the `random` [package](https://numpy.org/doc/stable/reference/random/index.html) which allows developers to work with pseudo random numbers.\n",
    "\n",
    "###### (further investigation)\n",
    "* Generator and BitGenerator\n",
    "* default_rng constructor to create instance of Generator\n",
    "* link between random and probability\n",
    "* pseudo randomness vs determinism - computers are ultimately deterministic machines\n",
    "\n",
    "[1] https://dataconomy.com/2017/12/random-data-can-benefit-business/"
   ]
  },
  {
   "cell_type": "markdown",
   "metadata": {},
   "source": [
    "## The simple random data functions\n",
    "***"
   ]
  },
  {
   "cell_type": "markdown",
   "metadata": {},
   "source": [
    "### 1. integers method\n",
    "Returns random integers from the interval passed. It takes 5 parameters (4 are optional). These are explored below:"
   ]
  },
  {
   "cell_type": "markdown",
   "metadata": {},
   "source": [
    "Firstly, the numpy library is imported. This provides the full range of tools necessary to fully investigate the package. matplotlib.pyplot is also important for visualisation"
   ]
  },
  {
   "cell_type": "code",
   "execution_count": 1,
   "metadata": {},
   "outputs": [],
   "source": [
    "import numpy as np\n",
    "import matplotlib.pyplot as plt\n",
    "import pandas as pd"
   ]
  },
  {
   "cell_type": "markdown",
   "metadata": {},
   "source": [
    "Next, the `default_rng()` function is called. This constructs a new Generator, providing access to a range of methods and distributions. "
   ]
  },
  {
   "cell_type": "code",
   "execution_count": 2,
   "metadata": {},
   "outputs": [],
   "source": [
    "rng = np.random.default_rng()"
   ]
  },
  {
   "cell_type": "markdown",
   "metadata": {},
   "source": [
    "##### Parameter 1: *low*\n",
    "This will be the lowest integer returned. If `high=None`, the integer passed is used as the *high* value and *low* is 0"
   ]
  },
  {
   "cell_type": "code",
   "execution_count": 3,
   "metadata": {},
   "outputs": [
    {
     "data": {
      "text/plain": [
       "5"
      ]
     },
     "execution_count": 3,
     "metadata": {},
     "output_type": "execute_result"
    }
   ],
   "source": [
    "# Generate one random integer between 0 and 10 exclusive\n",
    "rng.integers(low=10)"
   ]
  },
  {
   "cell_type": "code",
   "execution_count": 4,
   "metadata": {},
   "outputs": [
    {
     "data": {
      "text/plain": [
       "array([2, 3, 9], dtype=int64)"
      ]
     },
     "execution_count": 4,
     "metadata": {},
     "output_type": "execute_result"
    }
   ],
   "source": [
    "# Generate array of inetegers with 3 different lower bounds\n",
    "rng.integers([1, 3, 8], 10)"
   ]
  },
  {
   "cell_type": "markdown",
   "metadata": {},
   "source": [
    "##### Parameter 2: high\n",
    "This int value is the upper endpoint of the interval passed. Unless `endpoint=True`, the value for *high* will be excluded from the returned integers"
   ]
  },
  {
   "cell_type": "code",
   "execution_count": 5,
   "metadata": {},
   "outputs": [
    {
     "data": {
      "text/plain": [
       "7"
      ]
     },
     "execution_count": 5,
     "metadata": {},
     "output_type": "execute_result"
    }
   ],
   "source": [
    "# Generate one random integer between 1 and 10 exclusive\n",
    "rng.integers(low=1, high=10)"
   ]
  },
  {
   "cell_type": "code",
   "execution_count": 6,
   "metadata": {},
   "outputs": [
    {
     "data": {
      "text/plain": [
       "array([1, 1, 4, 1, 4], dtype=int64)"
      ]
     },
     "execution_count": 6,
     "metadata": {},
     "output_type": "execute_result"
    }
   ],
   "source": [
    "# Generate array of inetegers with 5 different upper bounds exclusive\n",
    "rng.integers(1, [2, 5, 10, 8, 9])"
   ]
  },
  {
   "cell_type": "markdown",
   "metadata": {},
   "source": [
    "##### Parameter 3: size\n",
    "The *size* parameter determines the shape of the array of integers returned. It takes int values or tuples of int values"
   ]
  },
  {
   "cell_type": "code",
   "execution_count": 7,
   "metadata": {},
   "outputs": [
    {
     "data": {
      "text/plain": [
       "array([3, 8], dtype=int64)"
      ]
     },
     "execution_count": 7,
     "metadata": {},
     "output_type": "execute_result"
    }
   ],
   "source": [
    "# Generate a 1d array with 2 values between 1 and 10 exclusive\n",
    "rng.integers(low=1, high=10, size=(2))"
   ]
  },
  {
   "cell_type": "code",
   "execution_count": 8,
   "metadata": {},
   "outputs": [
    {
     "data": {
      "text/plain": [
       "array([[9, 5, 3],\n",
       "       [6, 4, 9]], dtype=int64)"
      ]
     },
     "execution_count": 8,
     "metadata": {},
     "output_type": "execute_result"
    }
   ],
   "source": [
    "# Generate a 2d array of 2 rows and 3 columns with values between 1 and 10 exclusive\n",
    "rng.integers(1, 10, (2, 3))"
   ]
  },
  {
   "cell_type": "code",
   "execution_count": 9,
   "metadata": {},
   "outputs": [
    {
     "data": {
      "text/plain": [
       "array([[[4, 5, 1, 9],\n",
       "        [6, 1, 8, 6],\n",
       "        [8, 5, 8, 5]],\n",
       "\n",
       "       [[2, 6, 2, 6],\n",
       "        [8, 6, 8, 7],\n",
       "        [3, 9, 1, 9]]], dtype=int64)"
      ]
     },
     "execution_count": 9,
     "metadata": {},
     "output_type": "execute_result"
    }
   ],
   "source": [
    "# Generate a 3d array with values between 1 and 10 exclusive\n",
    "rng.integers(1, 10, (2, 3, 4))"
   ]
  },
  {
   "cell_type": "markdown",
   "metadata": {},
   "source": [
    "##### Parameter 4: dtype\n",
    "Specifies the desired datatype of the result. The dtype must be supported for integers."
   ]
  },
  {
   "cell_type": "code",
   "execution_count": 10,
   "metadata": {},
   "outputs": [
    {
     "data": {
      "text/plain": [
       "array([[ True,  True, False],\n",
       "       [False, False, False]])"
      ]
     },
     "execution_count": 10,
     "metadata": {},
     "output_type": "execute_result"
    }
   ],
   "source": [
    "# Generate a 2d array of boolean values between 0 and 2 , exclusive\n",
    "rng.integers(0, 2, (2, 3), dtype=np.bool_)"
   ]
  },
  {
   "cell_type": "code",
   "execution_count": 11,
   "metadata": {},
   "outputs": [
    {
     "data": {
      "text/plain": [
       "array([[8, 5, 8],\n",
       "       [1, 3, 6]], dtype=uint32)"
      ]
     },
     "execution_count": 11,
     "metadata": {},
     "output_type": "execute_result"
    }
   ],
   "source": [
    "# Generate a 2d array of 32-bit unsigned integer values (0 to 4294967295)\n",
    "rng.integers(1, 10, (2, 3), dtype=np.uint32)"
   ]
  },
  {
   "cell_type": "code",
   "execution_count": 12,
   "metadata": {},
   "outputs": [
    {
     "data": {
      "text/plain": [
       "array([[ 87, 174, 219],\n",
       "       [170,  64, 232]], dtype=uint8)"
      ]
     },
     "execution_count": 12,
     "metadata": {},
     "output_type": "execute_result"
    }
   ],
   "source": [
    "# Generate a 2d array of 8-bit unsigned integer values (0 to 255)\n",
    "rng.integers(1, 256, (2, 3), dtype=np.uint8)"
   ]
  },
  {
   "cell_type": "markdown",
   "metadata": {},
   "source": [
    "##### Parameter 5: endpoint\n",
    "Determines the upper enpoint of the interval. If endpoint=True, result is *high* inclusive. If endpoint=False, *high* is excluded from result. Default is False."
   ]
  },
  {
   "cell_type": "code",
   "execution_count": 13,
   "metadata": {},
   "outputs": [
    {
     "data": {
      "text/plain": [
       "array([10,  1,  6,  7,  4,  6,  9,  1,  9,  3], dtype=int64)"
      ]
     },
     "execution_count": 13,
     "metadata": {},
     "output_type": "execute_result"
    }
   ],
   "source": [
    "# Returns integers between 1 and 10, inclusive\n",
    "rng.integers(1, 10, 10, endpoint=True)"
   ]
  },
  {
   "cell_type": "markdown",
   "metadata": {},
   "source": [
    "### 2. random method\n",
    "Returns random floating point values in the half-open interval [0.0, 1.0)"
   ]
  },
  {
   "cell_type": "code",
   "execution_count": 14,
   "metadata": {},
   "outputs": [
    {
     "data": {
      "text/plain": [
       "0.8158524984693487"
      ]
     },
     "execution_count": 14,
     "metadata": {},
     "output_type": "execute_result"
    }
   ],
   "source": [
    "# Generate a floating point number bewteen 0.0 and 1.0\n",
    "rng.random()"
   ]
  },
  {
   "cell_type": "markdown",
   "metadata": {},
   "source": [
    "##### Parameter 1: size\n",
    "Determines the shape of the array returned. Takes ints or tuples of ints."
   ]
  },
  {
   "cell_type": "code",
   "execution_count": 15,
   "metadata": {},
   "outputs": [
    {
     "data": {
      "text/plain": [
       "array([0.98729397, 0.1573537 , 0.65385886, 0.77450196, 0.10402916])"
      ]
     },
     "execution_count": 15,
     "metadata": {},
     "output_type": "execute_result"
    }
   ],
   "source": [
    "# Generate a 1d array of 5 values between 0.0 and 1.0\n",
    "rng.random(5)"
   ]
  },
  {
   "cell_type": "code",
   "execution_count": 16,
   "metadata": {},
   "outputs": [
    {
     "data": {
      "text/plain": [
       "array([[0.6401153 , 0.20215543],\n",
       "       [0.72835616, 0.57767754],\n",
       "       [0.04634873, 0.66722837],\n",
       "       [0.12614335, 0.61591055],\n",
       "       [0.17474622, 0.85781414]])"
      ]
     },
     "execution_count": 16,
     "metadata": {},
     "output_type": "execute_result"
    }
   ],
   "source": [
    "# Three-by-two array of random numbers between 0.0 and 1.0\n",
    "rng.random((5, 2))"
   ]
  },
  {
   "cell_type": "markdown",
   "metadata": {},
   "source": [
    "##### Parameter 2: dtype\n",
    "Specifies the desired datatype of the result."
   ]
  },
  {
   "cell_type": "code",
   "execution_count": 17,
   "metadata": {},
   "outputs": [
    {
     "data": {
      "text/plain": [
       "array([[0.37952006, 0.7866831 ],\n",
       "       [0.64441323, 0.7183391 ],\n",
       "       [0.3854518 , 0.35349035],\n",
       "       [0.950168  , 0.99763966],\n",
       "       [0.16658342, 0.04472959]], dtype=float32)"
      ]
     },
     "execution_count": 17,
     "metadata": {},
     "output_type": "execute_result"
    }
   ],
   "source": [
    "##### Generate 2d array of 32-bit float values\n",
    "rng.random((5, 2), dtype=np.float32)"
   ]
  },
  {
   "cell_type": "markdown",
   "metadata": {},
   "source": [
    "##### Parameter 3: out\n",
    "Alternative array in which to put result"
   ]
  },
  {
   "cell_type": "code",
   "execution_count": 18,
   "metadata": {},
   "outputs": [
    {
     "data": {
      "text/plain": [
       "array([[0.34691458, 0.14058763],\n",
       "       [0.45609183, 0.37757848],\n",
       "       [0.4408221 , 0.57952921],\n",
       "       [0.36254227, 0.32969565],\n",
       "       [0.27907305, 0.93835545]])"
      ]
     },
     "execution_count": 18,
     "metadata": {},
     "output_type": "execute_result"
    }
   ],
   "source": [
    "rng.random((5, 2), out=None)"
   ]
  },
  {
   "cell_type": "markdown",
   "metadata": {},
   "source": [
    "We can generate random floating point values outside of the interval [0.0, 1.0] using simple arithmetic: `(b-a) * random() + a`"
   ]
  },
  {
   "cell_type": "code",
   "execution_count": 19,
   "metadata": {},
   "outputs": [
    {
     "data": {
      "text/plain": [
       "array([[7.37278215, 6.88982796, 9.53445967],\n",
       "       [8.42749527, 8.90408974, 5.76292717],\n",
       "       [9.94020954, 8.15964658, 5.11975014],\n",
       "       [8.11852752, 7.97898451, 8.60463435]])"
      ]
     },
     "execution_count": 19,
     "metadata": {},
     "output_type": "execute_result"
    }
   ],
   "source": [
    "# Generate four-by-three array of floating point values between 5 and 10\n",
    "a = 5\n",
    "b = 10\n",
    "\n",
    "(b - a) * rng.random((4, 3)) + a"
   ]
  },
  {
   "cell_type": "markdown",
   "metadata": {},
   "source": [
    "### 3. choice method\n",
    "Generates a random sample from a given 1d array"
   ]
  },
  {
   "cell_type": "markdown",
   "metadata": {},
   "source": [
    "##### Parameter 1: a\n",
    "Takes either a ndarray or an int. A random sample is generated from the elements in the array or if a=*int*, it is generated from np.arange(a)"
   ]
  },
  {
   "cell_type": "code",
   "execution_count": 20,
   "metadata": {},
   "outputs": [
    {
     "data": {
      "text/plain": [
       "2"
      ]
     },
     "execution_count": 20,
     "metadata": {},
     "output_type": "execute_result"
    }
   ],
   "source": [
    "# Generate random sample with int. This is generated from the np.arange() method\n",
    "rng.choice(a=5)"
   ]
  },
  {
   "cell_type": "code",
   "execution_count": 21,
   "metadata": {},
   "outputs": [
    {
     "data": {
      "text/plain": [
       "8"
      ]
     },
     "execution_count": 21,
     "metadata": {},
     "output_type": "execute_result"
    }
   ],
   "source": [
    "# Generate random sample from array\n",
    "rng.choice([2, 5, 7, 8])"
   ]
  },
  {
   "cell_type": "markdown",
   "metadata": {},
   "source": [
    "##### Parameter 2: size\n",
    "Determines the shape of the output. *size* can take an int or a tuple of ints"
   ]
  },
  {
   "cell_type": "code",
   "execution_count": 22,
   "metadata": {},
   "outputs": [
    {
     "data": {
      "text/plain": [
       "array(['seven', 'eight', 'eight'], dtype='<U5')"
      ]
     },
     "execution_count": 22,
     "metadata": {},
     "output_type": "execute_result"
    }
   ],
   "source": [
    "# Generate array with 3 elements from array passed\n",
    "rng.choice(['two', 'five', 'seven', 'eight'], size=3)"
   ]
  },
  {
   "cell_type": "code",
   "execution_count": 23,
   "metadata": {},
   "outputs": [
    {
     "data": {
      "text/plain": [
       "array([[2, 8],\n",
       "       [8, 8],\n",
       "       [5, 5]])"
      ]
     },
     "execution_count": 23,
     "metadata": {},
     "output_type": "execute_result"
    }
   ],
   "source": [
    "# Generate a three-by-two array of random integers from array passed\n",
    "rng.choice([2, 5, 7, 8], size=(3, 2))"
   ]
  },
  {
   "cell_type": "code",
   "execution_count": 24,
   "metadata": {},
   "outputs": [
    {
     "data": {
      "text/plain": [
       "array([34, 25,  3, 36, 22, 48, 43, 45,  5, 30, 42, 18, 12, 18, 38, 40, 17,\n",
       "       10, 39, 34, 31, 29, 37, 42,  2, 20, 30,  9, 35, 42,  8, 18, 38, 36,\n",
       "       11, 22, 12, 48, 11,  3, 45, 36,  3, 34, 28,  7,  2,  9, 49, 46, 43,\n",
       "        5, 19, 14, 48,  7, 13, 12, 42,  9, 47,  2, 27, 36, 49,  5, 31,  8,\n",
       "        2, 28,  2, 28, 20, 31, 40, 18, 20, 41, 36, 46, 17, 12, 20, 41, 23,\n",
       "       29, 21, 25,  3, 34, 45, 42, 49, 23,  8, 23, 42, 18, 37, 15],\n",
       "      dtype=int64)"
      ]
     },
     "execution_count": 24,
     "metadata": {},
     "output_type": "execute_result"
    }
   ],
   "source": [
    "# Generate array with 100 elements from randomly generated array\n",
    "\n",
    "# Generate random array of integers\n",
    "rand_arr = rng.integers(2, 50, 100)\n",
    "\n",
    "rng.choice(rand_arr, len(rand_arr))\n",
    "rand_arr"
   ]
  },
  {
   "cell_type": "markdown",
   "metadata": {},
   "source": [
    "##### Parameter 3: replace\n",
    "If `replace=False` elements from the array passed are not replaced in the output array"
   ]
  },
  {
   "cell_type": "code",
   "execution_count": 25,
   "metadata": {},
   "outputs": [
    {
     "data": {
      "text/plain": [
       "array([8, 2, 5, 7])"
      ]
     },
     "execution_count": 25,
     "metadata": {},
     "output_type": "execute_result"
    }
   ],
   "source": [
    "# Generate array without replacement\n",
    "rng.choice([2, 5, 7, 8], size=(4), replace=False)"
   ]
  },
  {
   "cell_type": "markdown",
   "metadata": {},
   "source": [
    "##### Parameter 4: p\n",
    "Assigns the probabilities associated with each element of *a*. *p* values must add up to 1"
   ]
  },
  {
   "cell_type": "code",
   "execution_count": 26,
   "metadata": {},
   "outputs": [
    {
     "data": {
      "text/plain": [
       "(array([1955.,    0.,    0.,    0.,    0., 4939.,    0.,    0., 2050.,\n",
       "        1056.]),\n",
       " array([2. , 2.6, 3.2, 3.8, 4.4, 5. , 5.6, 6.2, 6.8, 7.4, 8. ]),\n",
       " <a list of 10 Patch objects>)"
      ]
     },
     "execution_count": 26,
     "metadata": {},
     "output_type": "execute_result"
    },
    {
     "data": {
      "image/png": "[encoded data removed]",
      "text/plain": [
       "<Figure size 432x288 with 1 Axes>"
      ]
     },
     "metadata": {
      "needs_background": "light"
     },
     "output_type": "display_data"
    }
   ],
   "source": [
    "# Generate array with probablities assigned to each element\n",
    "prob = rng.choice([2, 5, 7, 8], size=(10000), p=[0.2, 0.5, 0.2, 0.1])\n",
    "\n",
    "# Plot this on a histogram to visualize results\n",
    "plt.hist(prob)"
   ]
  },
  {
   "cell_type": "markdown",
   "metadata": {},
   "source": [
    "##### Parameter 5: axis\n",
    "Selects the array axis to generate from "
   ]
  },
  {
   "cell_type": "code",
   "execution_count": 27,
   "metadata": {},
   "outputs": [
    {
     "data": {
      "text/plain": [
       "array([ 9, 10, 11, 12])"
      ]
     },
     "execution_count": 27,
     "metadata": {},
     "output_type": "execute_result"
    }
   ],
   "source": [
    "# Generate array of random integers when axis=0\n",
    "rng.choice(([1, 2, 3, 4], [5, 6, 7, 8], [9, 10, 11, 12]), axis=0)"
   ]
  },
  {
   "cell_type": "code",
   "execution_count": 28,
   "metadata": {},
   "outputs": [
    {
     "data": {
      "text/plain": [
       "array([1, 5, 9])"
      ]
     },
     "execution_count": 28,
     "metadata": {},
     "output_type": "execute_result"
    }
   ],
   "source": [
    "# Generate array of random integers when axis=1\n",
    "rng.choice(([1, 2, 3, 4], [5, 6, 7, 8], [9, 10, 11, 12]), axis=1)"
   ]
  },
  {
   "cell_type": "markdown",
   "metadata": {},
   "source": [
    "### 4. bytes method\n",
    "Returns random bytes"
   ]
  },
  {
   "cell_type": "markdown",
   "metadata": {},
   "source": [
    "##### Parameter: length\n",
    "Specifies number of bytes to be generated"
   ]
  },
  {
   "cell_type": "code",
   "execution_count": 29,
   "metadata": {},
   "outputs": [
    {
     "data": {
      "text/plain": [
       "b'SZ\\xb5\\xd2\\x10\\xc1\\x0f\\xf1\\xdaRm\\xde\\xa2\\x01\\x9euf\\x804\\x01\\xc8\\xef\\xf8%\\x06R\\xafB\\x1b3\\x8c\\xcb{\\x1d\"\\x16\\x9b\\x87\\x91Z\\xa7\\r\\x90jO\\xa8E\\xc4\\xe9\\x81\\x93\\xd5\\x9e!\\x7f\\xb6\\xf0\\x03\\xca_\\x8e\\x184{^\\xa6\\xbc\\x02P\\xc3\\x8b+{\\x19(%\\xa3u\\xf7\\xd7:C\\xa06\\xa6|\"2\\xe5O\\xf2\\xfb\\xbd\\x1c`p\\x89v\\xcb~'"
      ]
     },
     "execution_count": 29,
     "metadata": {},
     "output_type": "execute_result"
    }
   ],
   "source": [
    "# Generate 100 random bytes\n",
    "np.random.default_rng().bytes(100)"
   ]
  },
  {
   "cell_type": "markdown",
   "metadata": {},
   "source": [
    "## Permutations\n",
    "***"
   ]
  },
  {
   "cell_type": "markdown",
   "metadata": {},
   "source": [
    "### 1. Shuffle\n",
    "Shuffles contents of array-like objects passed. The order is changed but the contents remain the same."
   ]
  },
  {
   "cell_type": "markdown",
   "metadata": {},
   "source": [
    "##### Parameter 1: x\n",
    "Takes a ndarray for content shuffle"
   ]
  },
  {
   "cell_type": "code",
   "execution_count": 30,
   "metadata": {},
   "outputs": [
    {
     "data": {
      "text/plain": [
       "array([7, 3, 8, 7, 7, 9, 5, 4, 8, 4], dtype=int64)"
      ]
     },
     "execution_count": 30,
     "metadata": {},
     "output_type": "execute_result"
    }
   ],
   "source": [
    "# Generate array of random integers from 1-9\n",
    "arr = rng.integers(1, 10, 10)\n",
    "\n",
    "# Call the shuffle method\n",
    "rng.shuffle(arr)\n",
    "\n",
    "# Output shuffled array\n",
    "arr"
   ]
  },
  {
   "cell_type": "markdown",
   "metadata": {},
   "source": [
    "##### Parameter 2: axis\n",
    "Selects the array axis on which to shuffle"
   ]
  },
  {
   "cell_type": "code",
   "execution_count": 31,
   "metadata": {},
   "outputs": [
    {
     "data": {
      "text/plain": [
       "array([[[3, 9, 7, 4],\n",
       "        [2, 6, 7, 9],\n",
       "        [5, 7, 2, 9]],\n",
       "\n",
       "       [[2, 3, 1, 1],\n",
       "        [9, 3, 1, 2],\n",
       "        [6, 7, 7, 6]]], dtype=int64)"
      ]
     },
     "execution_count": 31,
     "metadata": {},
     "output_type": "execute_result"
    }
   ],
   "source": [
    "# Generate 3d array of random inetegers and assign to variable arr1\n",
    "arr1 = rng.integers(1, 10, (2, 3, 4))\n",
    "\n",
    "# Pass array to shuffle method and set axis to 1\n",
    "rng.shuffle(arr1, axis=1)\n",
    "\n",
    "# Output shuffled array \n",
    "arr1"
   ]
  },
  {
   "cell_type": "markdown",
   "metadata": {},
   "source": [
    "### 2. Permutation\n",
    "Randomly permutes a sequence"
   ]
  },
  {
   "cell_type": "markdown",
   "metadata": {},
   "source": [
    "##### Parameter 1: x\n",
    "Takes an int or array"
   ]
  },
  {
   "cell_type": "code",
   "execution_count": 32,
   "metadata": {},
   "outputs": [
    {
     "data": {
      "text/plain": [
       "array([7, 0, 1, 6, 3, 5, 8, 9, 2, 4])"
      ]
     },
     "execution_count": 32,
     "metadata": {},
     "output_type": "execute_result"
    }
   ],
   "source": [
    "# When x is an int, np.arange(x) is randomly permuted\n",
    "rng.permutation(x=10)"
   ]
  },
  {
   "cell_type": "code",
   "execution_count": 33,
   "metadata": {},
   "outputs": [
    {
     "data": {
      "text/plain": [
       "array([[[5, 9, 1, 1],\n",
       "        [2, 2, 5, 8],\n",
       "        [3, 8, 6, 7]],\n",
       "\n",
       "       [[5, 4, 3, 6],\n",
       "        [5, 2, 7, 3],\n",
       "        [7, 2, 7, 6]]], dtype=int64)"
      ]
     },
     "execution_count": 33,
     "metadata": {},
     "output_type": "execute_result"
    }
   ],
   "source": [
    "# When x is an array, a shuffled copy of x is returned\n",
    "arr = rng.integers(1, 10, (2, 3, 4))\n",
    "\n",
    "rng.permutation(arr)"
   ]
  },
  {
   "cell_type": "markdown",
   "metadata": {},
   "source": [
    "##### Parameter 2: axis\n",
    "Selects the array axis on which to shuffle"
   ]
  },
  {
   "cell_type": "code",
   "execution_count": 34,
   "metadata": {},
   "outputs": [
    {
     "data": {
      "text/plain": [
       "array([[[3, 5, 2, 9],\n",
       "        [9, 1, 8, 5],\n",
       "        [9, 5, 1, 2]],\n",
       "\n",
       "       [[4, 4, 5, 4],\n",
       "        [1, 8, 4, 4],\n",
       "        [3, 3, 9, 6]]], dtype=int64)"
      ]
     },
     "execution_count": 34,
     "metadata": {},
     "output_type": "execute_result"
    }
   ],
   "source": [
    "arr = rng.integers(1, 10, (2, 3, 4))\n",
    "\n",
    "# Set axis=1\n",
    "rng.permutation(arr, axis=1)"
   ]
  },
  {
   "cell_type": "markdown",
   "metadata": {},
   "source": [
    "## Distributions\n",
    "***"
   ]
  },
  {
   "cell_type": "markdown",
   "metadata": {},
   "source": [
    "### 1. Normal\n",
    "***\n",
    "The normal distribution, also known as the Gaussian distribution or bell curve, is a continuous probability distribution which is often considered to be the most important in the field of statistics because of the frequency of its occurrence in the natural world [1]. This explains why it is often used to model random variables. The probability density function (pdf) of the normal distribution is expressed as:\n",
    "\n",
    "$$ p(x) = \\frac{1}{\\sigma\\sqrt{2\\pi}}e^{\\frac{-1}{2}(\\frac{x-\\mu}{\\sigma})}$$\n",
    "\n",
    "where $\\mu$ (mu) is the mean or median and $\\sigma$ (sigma) is the standard deviation. The pdf gives the height of the curve at point $x$ [2]. A random variable has an increasing probability of being generated the closer its value to the mean. More specifically, in normal distributions, approximately 68% of the data falls within one standard deviation of the the mean, 95% within 2 standard deviations and 99.7% within 3 standard deviations. [3]\n",
    "\n",
    "Using the numpy.random package, we can draw random samples from a normal distribution through the random.Generator.normal method. The desired mean and standard deviation are passed as parameters to the function and a specified number of samples are derived. \n",
    "\n",
    "**References** <br>\n",
    "[1] Frost, Jim; Normal Distribution in Statistics;\thttps://statisticsbyjim.com/basics/normal-distribution/ <br>\n",
    "[2] JB Statistics; An Introduction to the Normal Distribution; https://www.youtube.com/watch?v=iYiOVISWXS4 <br>\n",
    "[3] Python for Data 22: Probability Distributions https://www.kaggle.com/hamelg/python-for-data-22-probability-distributions <br>"
   ]
  },
  {
   "cell_type": "code",
   "execution_count": 35,
   "metadata": {},
   "outputs": [
    {
     "data": {
      "text/plain": [
       "7.339079382586069"
      ]
     },
     "execution_count": 35,
     "metadata": {},
     "output_type": "execute_result"
    }
   ],
   "source": [
    "# Return a single sample value from a normally distributed variable with mean=5 and standard deviation=3\n",
    "rng.normal(loc=5, scale=3)"
   ]
  },
  {
   "cell_type": "code",
   "execution_count": 36,
   "metadata": {},
   "outputs": [
    {
     "data": {
      "text/plain": [
       "array([ 2.94902554,  3.90936443,  5.56116299,  5.17103213,  4.34907578,\n",
       "       10.48251086,  2.24893769,  1.79834562,  6.18570568,  5.44726914,\n",
       "        5.56763676, 10.99415121,  9.09477084,  3.8435472 ,  4.14346314,\n",
       "        1.50184124,  2.36321294,  7.10539673,  5.68322399,  3.80264396,\n",
       "        5.54075282,  6.51610988,  9.2672442 ,  7.04163317,  4.05857811,\n",
       "        5.9951193 ,  5.48999171,  9.12726395, -1.67996969,  5.44270707,\n",
       "       -0.65921969,  3.37374897,  6.2362225 ,  1.83491402,  2.17460589,\n",
       "        5.02130695, -1.89172405,  1.90139455,  1.69906702,  8.16732808,\n",
       "        5.90143088, -0.63620615,  2.22998864,  3.30560827,  9.88625506,\n",
       "       -0.42653894,  2.3129241 ,  0.06746284,  2.96095192,  2.64632706])"
      ]
     },
     "execution_count": 36,
     "metadata": {},
     "output_type": "execute_result"
    }
   ],
   "source": [
    "# Return a 1d array of 50 values of a normally distributed random variable with mean=5 and standard deviation=3\n",
    "norm = rng.normal(loc=5, scale=3, size=50)\n",
    "norm"
   ]
  },
  {
   "cell_type": "code",
   "execution_count": 37,
   "metadata": {},
   "outputs": [
    {
     "data": {
      "text/plain": [
       "(array([4., 2., 5., 8., 8., 9., 7., 1., 3., 3.]),\n",
       " array([-1.89172405, -0.60313653,  0.685451  ,  1.97403852,  3.26262605,\n",
       "         4.55121358,  5.8398011 ,  7.12838863,  8.41697616,  9.70556368,\n",
       "        10.99415121]),\n",
       " <a list of 10 Patch objects>)"
      ]
     },
     "execution_count": 37,
     "metadata": {},
     "output_type": "execute_result"
    },
    {
     "data": {
      "image/png": "[encoded data removed]",
      "text/plain": [
       "<Figure size 432x288 with 1 Axes>"
      ]
     },
     "metadata": {
      "needs_background": "light"
     },
     "output_type": "display_data"
    }
   ],
   "source": [
    "# Plot the distribution using a histogram\n",
    "plt.hist(norm)"
   ]
  },
  {
   "cell_type": "code",
   "execution_count": 38,
   "metadata": {},
   "outputs": [
    {
     "data": {
      "text/plain": [
       "(array([  11.,   98.,  620., 1768., 2946., 2762., 1355.,  373.,   62.,\n",
       "           5.]),\n",
       " array([-6.53891211, -4.15942755, -1.77994299,  0.59954157,  2.97902613,\n",
       "         5.35851069,  7.73799525, 10.11747981, 12.49696437, 14.87644893,\n",
       "        17.25593349]),\n",
       " <a list of 10 Patch objects>)"
      ]
     },
     "execution_count": 38,
     "metadata": {},
     "output_type": "execute_result"
    },
    {
     "data": {
      "image/png": "[encoded data removed]",
      "text/plain": [
       "<Figure size 432x288 with 1 Axes>"
      ]
     },
     "metadata": {
      "needs_background": "light"
     },
     "output_type": "display_data"
    }
   ],
   "source": [
    "# The more samples we plot, the more the histogram resembles the \n",
    "# classic symmetric shape associated with normal distribution\n",
    "norm1 = rng.normal(loc=5, scale=3, size=10000)\n",
    "plt.hist(norm1)"
   ]
  },
  {
   "cell_type": "code",
   "execution_count": 39,
   "metadata": {},
   "outputs": [
    {
     "data": {
      "text/plain": [
       "5.002172642405346"
      ]
     },
     "execution_count": 39,
     "metadata": {},
     "output_type": "execute_result"
    }
   ],
   "source": [
    "# We would expect the mean of the distribution to be close to the value assigned (5)\n",
    "np.mean(norm1)"
   ]
  },
  {
   "cell_type": "code",
   "execution_count": 40,
   "metadata": {},
   "outputs": [
    {
     "data": {
      "text/plain": [
       "3.014949461503838"
      ]
     },
     "execution_count": 40,
     "metadata": {},
     "output_type": "execute_result"
    }
   ],
   "source": [
    "# We would expect the standard deviation to be close to value assigned (3)\n",
    "np.std(norm1)"
   ]
  },
  {
   "cell_type": "markdown",
   "metadata": {},
   "source": [
    "***\n",
    "A standard normal distribution has a mean of 0 and standard deviation of 1. The standard normal distribution is explored below with the associated density function"
   ]
  },
  {
   "cell_type": "code",
   "execution_count": 41,
   "metadata": {},
   "outputs": [],
   "source": [
    "# Draw samples from a standard normal distribution\n",
    "mu, sigma = 0, 1\n",
    "\n",
    "norm2 = np.random.default_rng().normal(mu, sigma, 10000)"
   ]
  },
  {
   "cell_type": "code",
   "execution_count": 42,
   "metadata": {},
   "outputs": [
    {
     "data": {
      "image/png": "[encoded data removed]",
      "text/plain": [
       "<Figure size 432x288 with 1 Axes>"
      ]
     },
     "metadata": {
      "needs_background": "light"
     },
     "output_type": "display_data"
    }
   ],
   "source": [
    "# Taken from the numpy.random documentation, use matplotlib to plot the\n",
    "# probability density function for a standard normal distribution\n",
    "count, bins, ignored = plt.hist(norm2, 30, density=True)\n",
    "\n",
    "# The probability density function is coded out and passed\n",
    "plt.plot(bins, 1/(sigma * np.sqrt(2 * np.pi)) *\n",
    "\n",
    "               np.exp( - (bins - mu)**2 / (2 * sigma**2) ),\n",
    "\n",
    "         linewidth=2, color='b')\n",
    "\n",
    "plt.show()"
   ]
  },
  {
   "cell_type": "code",
   "execution_count": 43,
   "metadata": {},
   "outputs": [
    {
     "data": {
      "text/plain": [
       "<matplotlib.axes._subplots.AxesSubplot at 0x1c8682205b0>"
      ]
     },
     "execution_count": 43,
     "metadata": {},
     "output_type": "execute_result"
    },
    {
     "data": {
      "image/png": "[encoded data removed]",
      "text/plain": [
       "<Figure size 288x288 with 1 Axes>"
      ]
     },
     "metadata": {
      "needs_background": "light"
     },
     "output_type": "display_data"
    }
   ],
   "source": [
    "# Plot density function using Pandas\n",
    "pd.DataFrame(norm2).plot(kind=\"density\", figsize=(4,4), xlim=(-4, 4))"
   ]
  },
  {
   "cell_type": "markdown",
   "metadata": {},
   "source": [
    "The standard deviation (sigma) determines the width of the curve. The lower the std, the higher the probability of the random variable being closer to the mean. We can visualise the affect of lowering or raising the value of sigma when we plot the distributions on plots of equal dimension. [4]\n",
    "\n",
    "[4] *code take from:* Lecture 18;  https://www.math.uci.edu/~isik/teaching/17W_MATH9/notes/Lecture18.html"
   ]
  },
  {
   "cell_type": "code",
   "execution_count": 44,
   "metadata": {},
   "outputs": [
    {
     "data": {
      "image/png": "[encoded data removed]",
      "text/plain": [
       "<Figure size 432x288 with 1 Axes>"
      ]
     },
     "metadata": {
      "needs_background": "light"
     },
     "output_type": "display_data"
    }
   ],
   "source": [
    "# With a mean of 0 and standard deviation of 2\n",
    "N = 500000\n",
    "mu = 0.0\n",
    "sigma = 2.0 \n",
    "norm3 = np.random.default_rng().normal(mu, sigma, size=N)\n",
    "plt.axis([-6, 6, 0, 0.40])\n",
    "_,_,_ = plt.hist(norm3, 50, density=True)"
   ]
  },
  {
   "cell_type": "code",
   "execution_count": 45,
   "metadata": {},
   "outputs": [
    {
     "data": {
      "image/png": "[encoded data removed]",
      "text/plain": [
       "<Figure size 432x288 with 1 Axes>"
      ]
     },
     "metadata": {
      "needs_background": "light"
     },
     "output_type": "display_data"
    }
   ],
   "source": [
    "# Lowering the standard deviation we can see the curve narrows \n",
    "N = 500000\n",
    "mu = 0.0\n",
    "sigma = 1.0 # lower standard deviation\n",
    "norm4 = np.random.normal(loc=mu, scale=sigma, size=N)\n",
    "plt.axis([-6, 6, 0, 0.40])\n",
    "_,_,_ = plt.hist(norm4, 50, density=True)"
   ]
  },
  {
   "cell_type": "code",
   "execution_count": null,
   "metadata": {},
   "outputs": [],
   "source": []
  },
  {
   "cell_type": "code",
   "execution_count": null,
   "metadata": {},
   "outputs": [],
   "source": []
  },
  {
   "cell_type": "code",
   "execution_count": null,
   "metadata": {},
   "outputs": [],
   "source": []
  },
  {
   "cell_type": "code",
   "execution_count": null,
   "metadata": {},
   "outputs": [],
   "source": []
  },
  {
   "cell_type": "code",
   "execution_count": null,
   "metadata": {},
   "outputs": [],
   "source": []
  },
  {
   "cell_type": "code",
   "execution_count": null,
   "metadata": {},
   "outputs": [],
   "source": []
  },
  {
   "cell_type": "code",
   "execution_count": null,
   "metadata": {},
   "outputs": [],
   "source": []
  },
  {
   "cell_type": "markdown",
   "metadata": {},
   "source": [
    "### 2. Uniform\n",
    "***\n",
    "The `.uniform` function outputs an array of values which are evenly distributed across the interval passed. Each value has an equal chance of being generated. Values outside of the interval never occur and thus have a probability of 0. The probability density function is: $$ p(x) = \\frac{1}{b-a}$$\n",
    "\n",
    "*coin toss example*"
   ]
  },
  {
   "cell_type": "code",
   "execution_count": 46,
   "metadata": {},
   "outputs": [],
   "source": [
    "# Generate an array of random variables in a uniform distribution\n",
    "uni = np.random.default_rng().uniform(-10,5,10000)"
   ]
  },
  {
   "cell_type": "code",
   "execution_count": 47,
   "metadata": {},
   "outputs": [
    {
     "data": {
      "text/plain": [
       "(array([1050., 1009.,  988.,  949., 1014., 1034.,  944.,  995., 1043.,\n",
       "         974.]),\n",
       " array([-9.99729895, -8.49768268, -6.99806641, -5.49845014, -3.99883386,\n",
       "        -2.49921759, -0.99960132,  0.50001495,  1.99963122,  3.49924749,\n",
       "         4.99886376]),\n",
       " <a list of 10 Patch objects>)"
      ]
     },
     "execution_count": 47,
     "metadata": {},
     "output_type": "execute_result"
    },
    {
     "data": {
      "image/png": "[encoded data removed]",
      "text/plain": [
       "<Figure size 432x288 with 1 Axes>"
      ]
     },
     "metadata": {
      "needs_background": "light"
     },
     "output_type": "display_data"
    }
   ],
   "source": [
    "# Plot the distribution using a histogram\n",
    "plt.hist(uni)"
   ]
  },
  {
   "cell_type": "code",
   "execution_count": 48,
   "metadata": {},
   "outputs": [
    {
     "data": {
      "text/plain": [
       "-2.531012076867529"
      ]
     },
     "execution_count": 48,
     "metadata": {},
     "output_type": "execute_result"
    }
   ],
   "source": [
    "np.mean(uni)"
   ]
  },
  {
   "cell_type": "code",
   "execution_count": 49,
   "metadata": {},
   "outputs": [
    {
     "data": {
      "text/plain": [
       "<matplotlib.axes._subplots.AxesSubplot at 0x1c86a9a8a00>"
      ]
     },
     "execution_count": 49,
     "metadata": {},
     "output_type": "execute_result"
    },
    {
     "data": {
      "image/png": "[encoded data removed]",
      "text/plain": [
       "<Figure size 288x288 with 1 Axes>"
      ]
     },
     "metadata": {
      "needs_background": "light"
     },
     "output_type": "display_data"
    }
   ],
   "source": [
    "# Plot the density function using Pandas library\n",
    "pd.DataFrame(uni).plot(kind=\"density\", figsize=(4,4), xlim=(-15, 10))"
   ]
  },
  {
   "cell_type": "code",
   "execution_count": null,
   "metadata": {},
   "outputs": [],
   "source": []
  },
  {
   "cell_type": "code",
   "execution_count": null,
   "metadata": {},
   "outputs": [],
   "source": []
  },
  {
   "cell_type": "code",
   "execution_count": null,
   "metadata": {},
   "outputs": [],
   "source": []
  },
  {
   "cell_type": "code",
   "execution_count": null,
   "metadata": {},
   "outputs": [],
   "source": []
  },
  {
   "cell_type": "code",
   "execution_count": null,
   "metadata": {},
   "outputs": [],
   "source": []
  }
 ],
 "metadata": {
  "kernelspec": {
   "display_name": "Python 3",
   "language": "python",
   "name": "python3"
  },
  "language_info": {
   "codemirror_mode": {
    "name": "ipython",
    "version": 3
   },
   "file_extension": ".py",
   "mimetype": "text/x-python",
   "name": "python",
   "nbconvert_exporter": "python",
   "pygments_lexer": "ipython3",
   "version": "3.8.3"
  }
 },
 "nbformat": 4,
 "nbformat_minor": 4
}
