{
 "cells": [
  {
   "cell_type": "markdown",
   "metadata": {},
   "source": [
    "# Assignment 2020: Investigating the numpy.random package\n",
    "***"
   ]
  },
  {
   "cell_type": "markdown",
   "metadata": {},
   "source": [
    "### Introduction\n",
    "***\n",
    "\n",
    "This project investigates the numpy.random package, examining it under the following four headings:\n",
    "* The overall purpose of the package\n",
    "* The use of the simple random data and Permutations functions\n",
    "* The use and purpose of 5 different distributions:\n",
    "    * Uniform\n",
    "    * Binomial\n",
    "    * Normal\n",
    "    * Poisson\n",
    "    * Geometric\n",
    "* The use of seeds in generating pseudorandom numbers\n",
    "\n",
    "<br>\n",
    "In as much as is possible, I show how the various features of the package can be used in data analytics through practical, real-world examples, with the aim of demonstrating the applicability of the package features\n",
    "\n",
    "<br>"
   ]
  },
  {
   "cell_type": "markdown",
   "metadata": {},
   "source": [
    "## 1. The Overall Purpose of the Package\n",
    "***\n",
    "The generation of random numbers by computers has many important uses in numerous different real-world contexts. These range from the generation of truly random numbers (TRNGs) in the areas of encryption and online gambling, to the ability to generate pseudo random numbers for simluation and modelling applications [1]. In Python programming, the Numpy library provides the random package which allows users to work with pseudo random numbers (PRNGs). [2]\n",
    "\n",
    "\n",
    "\n",
    "\n",
    "\n",
    "<br>\n",
    "\n",
    "\n",
    "### References\n",
    "[1] https://dataconomy.com/2017/12/random-data-can-benefit-business/ <br>\n",
    "[2] https://numpy.org/doc/stable/reference/random/index.html <br>"
   ]
  },
  {
   "cell_type": "markdown",
   "metadata": {},
   "source": [
    "<br>\n",
    "\n",
    "##### end section"
   ]
  },
  {
   "cell_type": "markdown",
   "metadata": {},
   "source": [
    "## 2. The simple random data and Permutations functions\n",
    "***\n",
    "\n",
    "These functions allow us to generate pseudo-random real numbers within a specified range. Various operations can be performed depending on the needs of the user. There is a significant amount of functionality crossover between the methods in these sections so it is not necessary to go through each one individually. I will briefly demonstrate some of these functions before applying them practically in the simulation of a deck of playing cards.\n",
    "***\n"
   ]
  },
  {
   "cell_type": "markdown",
   "metadata": {},
   "source": [
    "<br>\n",
    "\n",
    "First, the numpy library is imported. This provides the full range of tools necessary to fully investigate the package. The `pyplot` module and `pandas` are also used below for visualisation"
   ]
  },
  {
   "cell_type": "code",
   "execution_count": 1,
   "metadata": {},
   "outputs": [],
   "source": [
    "import numpy as np\n",
    "import matplotlib.pyplot as plt\n",
    "import pandas as pd\n",
    "import scipy.stats as stats"
   ]
  },
  {
   "cell_type": "code",
   "execution_count": 2,
   "metadata": {},
   "outputs": [],
   "source": [
    "# Set visualisation style\n",
    "plt.style.use(\"ggplot\")"
   ]
  },
  {
   "cell_type": "markdown",
   "metadata": {},
   "source": [
    "Next, the `default_rng()` function is called. This constructs a new Generator, providing access to a range of methods and distributions. "
   ]
  },
  {
   "cell_type": "code",
   "execution_count": 3,
   "metadata": {},
   "outputs": [],
   "source": [
    "rng = np.random.default_rng()"
   ]
  },
  {
   "cell_type": "markdown",
   "metadata": {},
   "source": [
    "<br>\n",
    "\n",
    "#### Some simple operations"
   ]
  },
  {
   "cell_type": "code",
   "execution_count": 4,
   "metadata": {},
   "outputs": [
    {
     "name": "stdout",
     "output_type": "stream",
     "text": [
      "[1, 4, 9, 1, 5, 7, 5, 4, 9, 2]\n"
     ]
    }
   ],
   "source": [
    "# generate 10 random numbers from 0-9 and append to list lst\n",
    "lst = []\n",
    "for i in range(10):\n",
    "    lst.append(rng.integers(low=10)) \n",
    "print(lst)"
   ]
  },
  {
   "cell_type": "code",
   "execution_count": 5,
   "metadata": {},
   "outputs": [
    {
     "name": "stdout",
     "output_type": "stream",
     "text": [
      "[1, 7, 9, 5, 4, 2, 1, 4, 5, 9]\n"
     ]
    }
   ],
   "source": [
    "# shuffle the elements of lst\n",
    "rng.shuffle(lst)\n",
    "print(lst)"
   ]
  },
  {
   "cell_type": "code",
   "execution_count": 6,
   "metadata": {},
   "outputs": [
    {
     "name": "stdout",
     "output_type": "stream",
     "text": [
      "[4, 1, 9, 1, 5, 5, 7, 4, 7, 5]\n"
     ]
    }
   ],
   "source": [
    "# use random.choice() to choose from elements in lst\n",
    "choice_list = []\n",
    "for i in range(10):\n",
    "    choice_list.append(rng.choice(lst)) # add to choice_list\n",
    "print(choice_list)"
   ]
  },
  {
   "cell_type": "code",
   "execution_count": 7,
   "metadata": {},
   "outputs": [
    {
     "name": "stdout",
     "output_type": "stream",
     "text": [
      "[[7 8 7]\n",
      " [3 2 6]]\n"
     ]
    }
   ],
   "source": [
    "# Generate a 2d array of 2 rows and 3 columns with values between 1 and 10 exclusive\n",
    "int_array_2d = rng.integers(1, 10, (2, 3))\n",
    "print(int_array_2d)"
   ]
  },
  {
   "cell_type": "code",
   "execution_count": 8,
   "metadata": {},
   "outputs": [
    {
     "name": "stdout",
     "output_type": "stream",
     "text": [
      "[[[ 7  4  9  4]\n",
      "  [10  9  8  5]\n",
      "  [ 2  8  1  8]]\n",
      "\n",
      " [[ 8  7  1  2]\n",
      "  [ 6  1  9  6]\n",
      "  [ 4  7  4  2]]]\n"
     ]
    }
   ],
   "source": [
    "# Generate a 3d array with values between 1 and 10 inclusive\n",
    "int_array_3d = rng.integers(1, 10, (2, 3, 4), endpoint=True)\n",
    "print(int_array_3d)"
   ]
  },
  {
   "cell_type": "markdown",
   "metadata": {},
   "source": [
    "<br>\n",
    "\n",
    "#### Simulation: Playing cards and probability\n",
    "***\n",
    "\n",
    "One of the most important features of the np.random package is that it can be used to simulate real life events and situations. A simple computer program can perform in less than one second, what could take a human days, months or even years to do. These simulations can then be used to make informed predictions and assumptions which can be applied to real life. \n",
    "\n",
    "\n",
    "Below, I have written a program which simulates a standard deck of 52 playing cards. The simulation involves creating a standard deck, shuffling it using the `.shuffle()`  method and then drawing a single card at random using the `.choice()` method. The 'card' is then replaced. This is repeated 10,000 times and each card drawn is stored in memory.\n",
    "\n",
    "Per the package documentation, the `choice()` method assumes a uniform distribution of the elements in the array passed [3]. This is what we want as each card in the deck should have an equal chance of being drawn.\n",
    "\n",
    "'C6' represents 6 of Clubs, 'SA' Ace of Spades etc.\n",
    "\n",
    "#### Probability\n",
    "In order to verify the accuracy of the simulation, the stored cards are analysed in the following ways:\n",
    "* How many of each suit (clubs, diamonds, hearts, spades) were drawn;\n",
    "* How many of each specified single card (`test_cards`) were drawn <br>\n",
    "\n",
    "We know that the probability of drawing a particular suit is **13/52 (25%)**;<br>\n",
    "And for a single card it is **1/52 (approx. 2%)**\n",
    "\n",
    "The program demonstrates that the `.random` methods used do indeed accurately simulate the behaviour of playing cards in real life.\n",
    "\n",
    "The idea for the `make_deck()` function was found in *A Primer on Scientific Programming with Python* by Hans Petter Langtangen [4]\n",
    "\n",
    "<br>\n",
    "\n",
    "### References\n",
    "\n",
    "[3] https://numpy.org/doc/stable/reference/random/generated /numpy.random.Generator.choice.html#numpy.random.Generator.choice <br>\n",
    "[4] Langtangen, Hans Petter; A Primer on Scientific Programming with Python; Springer-Verlag Berlin Heidelberg, 2016; viewed at http://hplgit.github.io/primer.html/doc/pub/random/._random-readable002.html <br>"
   ]
  },
  {
   "cell_type": "code",
   "execution_count": 9,
   "metadata": {},
   "outputs": [],
   "source": [
    "def make_deck():\n",
    "    \n",
    "    \"\"\"\n",
    "    This function makes a standard deck of 52 playing cards\n",
    "    \"\"\"\n",
    "    \n",
    "    ranks = ['A', '2', '3', '4', '5', '6', '7',\n",
    "             '8', '9', '10', 'J', 'Q', 'K']\n",
    "    suits = ['C', 'D', 'H', 'S']\n",
    "    deck = []\n",
    "    for s in suits:\n",
    "        for r in ranks:\n",
    "            deck.append(s + r)\n",
    "        rng.shuffle(deck) # shuffle deck\n",
    "    return deck"
   ]
  },
  {
   "cell_type": "code",
   "execution_count": 10,
   "metadata": {},
   "outputs": [],
   "source": [
    "def pick(deck):\n",
    "\n",
    "    \"\"\"\n",
    "    This function picks a single card 10,000 times. It returns a list of the cards and a dictionary of their suits\n",
    "    \"\"\"\n",
    "    \n",
    "    test_suits = ['C', 'D', 'H', 'S']\n",
    "    card_list = [] \n",
    "    for i in range(10000):\n",
    "        card = rng.choice(deck)\n",
    "        card_list.append(card) \n",
    "    suit_list = suits(test_suits, card_list) # Call suits() function to create list of suits chosen \n",
    "    suit_dict = counts(suit_list) # Call counts() function to create dictionary of suits chosen\n",
    "    return suit_dict, card_list # Return dictionary of 10,000 suits and list of 10,000 cards"
   ]
  },
  {
   "cell_type": "code",
   "execution_count": 11,
   "metadata": {},
   "outputs": [],
   "source": [
    "def card_pick(card_list):\n",
    "    \n",
    "    \"\"\"\n",
    "    This function counts the number of test cards in the card_list\n",
    "    \"\"\"\n",
    "    \n",
    "    test_cards = ['H6', 'S6', 'C6', 'D6']\n",
    "    compare_cards = []\n",
    "    for card in card_list:\n",
    "        for i in range(len(test_cards)):\n",
    "            if test_cards[i] == card:\n",
    "                compare_cards.append(test_cards[i])\n",
    "    compare_cards_dict = counts(compare_cards)\n",
    "    return compare_cards_dict"
   ]
  },
  {
   "cell_type": "code",
   "execution_count": 12,
   "metadata": {},
   "outputs": [],
   "source": [
    "def suits(test_suits, card_list):\n",
    "    \n",
    "    \"\"\"\n",
    "    This function returns a list containing the suit of each card chosen\n",
    "    \"\"\"\n",
    "    \n",
    "    suit_list = []\n",
    "    for card in card_list:\n",
    "        for i in range(len(test_suits)):\n",
    "            if test_suits[i] in card:\n",
    "                suit_list.append(test_suits[i])\n",
    "    return suit_list"
   ]
  },
  {
   "cell_type": "code",
   "execution_count": 13,
   "metadata": {},
   "outputs": [],
   "source": [
    "def counts(lst):\n",
    "    \n",
    "    \"\"\"\n",
    "    This function takes a list as an argument and adds the list items to a dictionary\n",
    "    \"\"\"\n",
    "    \n",
    "    d = {}\n",
    "    for item in lst:\n",
    "        if item in d:\n",
    "            d[item] += 1\n",
    "        else:\n",
    "            d[item] = 1\n",
    "    return d"
   ]
  },
  {
   "cell_type": "code",
   "execution_count": 14,
   "metadata": {},
   "outputs": [],
   "source": [
    "deck = (make_deck()) # Make deck\n",
    "suit_dict, card_list = pick(deck) # Create dictionary of suits and list of single cards drawn\n",
    "cards_dict = card_pick(card_list) # Create dictionary of test cards"
   ]
  },
  {
   "cell_type": "markdown",
   "metadata": {},
   "source": [
    "<br>\n",
    "\n",
    "#### Analysis of output\n",
    "***\n",
    "\n",
    "* When we observe the output in the dictionary `suit_dict` we see that each suit was drawn approximately 25% of the time. \n",
    "* Similarly, `cards_dict` reveals that single cards are drawn at a rate of approximately 2%. <br>\n",
    "This is preccisely what we would expect and demonstrates that the simulation mirrors real life playing cards. <br>\n",
    "\n",
    "I have plotted both dictionaries on a bar chart. We can visualise the distribution clearly. Both suits and single cards are uniformly distributed"
   ]
  },
  {
   "cell_type": "code",
   "execution_count": 15,
   "metadata": {},
   "outputs": [
    {
     "name": "stdout",
     "output_type": "stream",
     "text": [
      "{'D': 2508, 'H': 2568, 'C': 2455, 'S': 2469}\n"
     ]
    }
   ],
   "source": [
    "# Output suit_dict. Note the value of each suit at approx 2,500, or 10,000/4\n",
    "print(suit_dict)"
   ]
  },
  {
   "cell_type": "code",
   "execution_count": 16,
   "metadata": {},
   "outputs": [
    {
     "data": {
      "text/plain": [
       "Text(0.5, 1.0, 'Suits frequency')"
      ]
     },
     "execution_count": 16,
     "metadata": {},
     "output_type": "execute_result"
    },
    {
     "data": {
      "image/png": "[encoded data removed]",
      "text/plain": [
       "<Figure size 432x288 with 1 Axes>"
      ]
     },
     "metadata": {},
     "output_type": "display_data"
    }
   ],
   "source": [
    "# Plot suit frequency on a bar chart to view uniform distribution\n",
    "plt.bar(list(suit_dict.keys()), suit_dict.values())\n",
    "plt.title(\"Suits frequency\")"
   ]
  },
  {
   "cell_type": "code",
   "execution_count": 17,
   "metadata": {},
   "outputs": [
    {
     "name": "stdout",
     "output_type": "stream",
     "text": [
      "{'H6': 204, 'D6': 184, 'S6': 198, 'C6': 178}\n"
     ]
    }
   ],
   "source": [
    "# Output cards_dict. Note the value of each card at approx. 193 or 10,000/52\n",
    "print(cards_dict)"
   ]
  },
  {
   "cell_type": "code",
   "execution_count": 18,
   "metadata": {},
   "outputs": [
    {
     "data": {
      "text/plain": [
       "Text(0.5, 1.0, 'Single card frequency')"
      ]
     },
     "execution_count": 18,
     "metadata": {},
     "output_type": "execute_result"
    },
    {
     "data": {
      "image/png": "[encoded data removed]",
      "text/plain": [
       "<Figure size 432x288 with 1 Axes>"
      ]
     },
     "metadata": {},
     "output_type": "display_data"
    }
   ],
   "source": [
    "# Output single card frequency on a bar chart to view uniform distribution\n",
    "plt.bar(list(cards_dict.keys()), cards_dict.values())\n",
    "plt.title(\"Single card frequency\")"
   ]
  },
  {
   "cell_type": "markdown",
   "metadata": {},
   "source": [
    "<br>\n",
    "\n",
    "#### End section 2"
   ]
  },
  {
   "cell_type": "markdown",
   "metadata": {},
   "source": [
    "<br>\n",
    "\n",
    "## 3. Distributions\n",
    "***\n",
    "\n",
    "The numpy.random package allows us to work with a range of distributions depending on our specific requirements. I examine 5 of these in the present section:\n",
    "\n",
    "* Uniform\n",
    "* Binomial\n",
    "* Normal\n",
    "* Poisson\n",
    "* Geometric\n",
    "\n",
    "Probability distributions tell us how likely it is that a certain event occurs. They have many practical applications, such as the calculation of confidence intervals and critical regions in hypothesis testing [5]. \"Statistical intervals and hypothesis tests are often based on specific distributional assumptions\" [6]. For example, the t-test is most commonly associated with a normally distributed random variable, while for Chi-squared tests it is the Chi-squared distribution. Simulation is another practical use of probability distributions which is commonly applied in numerous fields. \n",
    "\n",
    "In the simulation demonstrated above, the playing cards were drawn at random and distributed uniformly. This is the default distribution for the `rng.choice()` method. Each element in the array passed has an equal probability of being selected which is exactly what we want if we are simulating a standard deck of 52 playing cards. \n",
    "\n",
    "It is the uniform distribution which is first explored here via the `rng.uniform()` method.\n",
    "\n",
    "\n",
    "\n",
    "<br>\n",
    "\n",
    "### References\n",
    "[5] Engineering Statistics Handbook; Probability Distributions; https://www.itl.nist.gov/div898/handbook/eda/section3/eda36.htm <br>\n",
    "[6] *Ibid* <br>"
   ]
  },
  {
   "cell_type": "markdown",
   "metadata": {},
   "source": [
    "<br>\n",
    "\n",
    "### 3.1 Uniform \n",
    "***\n",
    "\n",
    "The `rng.uniform()` function outputs an array of values which are evenly distributed across the interval passed. Each value has an equal chance of being generated. Values outside of the interval never occur and thus have a probability of 0. The probability density function is: $$ p(x) = \\frac{1}{b-a}$$\n",
    "\n",
    "Let us simulate the rolling of an unbiased, 6-sided die. This can be done using the `rng.integers()` method. By default (as with `rng.choice()` above), it will generate integers with a uniform distribution:"
   ]
  },
  {
   "cell_type": "markdown",
   "metadata": {},
   "source": [
    "<br>\n",
    "\n",
    "##### Dice rolling: Discrete vs Continuous  "
   ]
  },
  {
   "cell_type": "code",
   "execution_count": 19,
   "metadata": {},
   "outputs": [
    {
     "name": "stdout",
     "output_type": "stream",
     "text": [
      "[1 2 5 6 4 6 6 4 3 3]\n"
     ]
    }
   ],
   "source": [
    "# Roll 6-sided die 10 times\n",
    "die_roll = rng.integers(1, 7, 10)\n",
    "print(die_roll)"
   ]
  },
  {
   "cell_type": "markdown",
   "metadata": {},
   "source": [
    "If we use the `rng.uniform()` method with the same arguments, we note a significant difference - the output will be floats:"
   ]
  },
  {
   "cell_type": "code",
   "execution_count": 20,
   "metadata": {},
   "outputs": [
    {
     "name": "stdout",
     "output_type": "stream",
     "text": [
      "[1.77165103 2.31628818 3.66788648 6.87092815 6.83336997 4.19112022\n",
      " 1.16674749 3.02919167 3.05227336 6.9214543 ]\n"
     ]
    }
   ],
   "source": [
    "die_roll_float = rng.uniform(1, 7, 10)\n",
    "print(die_roll_float)"
   ]
  },
  {
   "cell_type": "markdown",
   "metadata": {},
   "source": [
    "This points to an important characteristic of the method: it generates data with a *continuous proabability distribution*. That is, it is \"a probability distribution in which the random variable X can take on any value\" [7]. This contrasts with the discrete uniform distribution generated by the `integers()` method, more suited to simulating a die which has only discrete values. In a continuous uniform distribution, each variable has an equal chance of being observed and that variable has an infinite number of possible values.\n",
    "\n"
   ]
  },
  {
   "cell_type": "markdown",
   "metadata": {},
   "source": [
    "<br>\n",
    "\n",
    "##### Plotting the uniform distribution (waiting for an elevator)\n",
    "***\n",
    "Applying the continuous uniform distribution to a real-world situation [8], let us say that it takes between 0 and 40 seconds for an elevator to arrive once it has been called. It is assumed that the elevator arrives uniformly between 0 and 40 seconds once the button has been pressed. Below, I generate some data that simulates this situation and plot it first on a histogram. It appears flat, taking on the characteristic appearance of the uniform distribution. I then plot its probability density function (PDF). Visualisation enables us to understand more clearly that each observation of the random variable is equally distributed across the interval. We can clearly see that there is an equal chance of the elevator arriving, any time between 0 and 40 seconds. "
   ]
  },
  {
   "cell_type": "code",
   "execution_count": 21,
   "metadata": {},
   "outputs": [],
   "source": [
    "# Generate an array of random variables in a uniform distribution\n",
    "uni = np.random.default_rng().uniform(0,40,10000)"
   ]
  },
  {
   "cell_type": "code",
   "execution_count": 22,
   "metadata": {},
   "outputs": [
    {
     "data": {
      "text/plain": [
       "<function matplotlib.pyplot.show(*args, **kw)>"
      ]
     },
     "execution_count": 22,
     "metadata": {},
     "output_type": "execute_result"
    },
    {
     "data": {
      "image/png": "[encoded data removed]",
      "text/plain": [
       "<Figure size 432x288 with 1 Axes>"
      ]
     },
     "metadata": {},
     "output_type": "display_data"
    }
   ],
   "source": [
    "# Plot the distribution using a histogram\n",
    "plt.hist(uni, color = 'skyblue')\n",
    "plt.show"
   ]
  },
  {
   "cell_type": "code",
   "execution_count": 23,
   "metadata": {},
   "outputs": [
    {
     "data": {
      "text/plain": [
       "<matplotlib.axes._subplots.AxesSubplot at 0x1c20deb74c0>"
      ]
     },
     "execution_count": 23,
     "metadata": {},
     "output_type": "execute_result"
    },
    {
     "data": {
      "image/png": "[encoded data removed]",
      "text/plain": [
       "<Figure size 288x288 with 1 Axes>"
      ]
     },
     "metadata": {},
     "output_type": "display_data"
    }
   ],
   "source": [
    "# Plot the density function using Pandas library\n",
    "pd.DataFrame(uni).plot(kind=\"density\", figsize=(4,4), xlim=(-5, 45), color = 'skyblue')"
   ]
  },
  {
   "cell_type": "markdown",
   "metadata": {},
   "source": [
    "#### Calculating probabilities \n",
    "\n",
    "We can apply the probability density function (pdf) shown above to calculate the probability of the elevator arriving at any given time. We know that the probability should be **2.5% (1/40)**, given that each time between 0 and 40 seconds has an equal chance of being observed. This is borne out in the code below. "
   ]
  },
  {
   "cell_type": "code",
   "execution_count": 24,
   "metadata": {},
   "outputs": [
    {
     "name": "stdout",
     "output_type": "stream",
     "text": [
      "0.025\n"
     ]
    }
   ],
   "source": [
    "a = 0\n",
    "b = 40\n",
    "pdf = 1/(b - a)\n",
    "print(pdf)"
   ]
  },
  {
   "cell_type": "markdown",
   "metadata": {},
   "source": [
    "Using the cumulative distribution function (cdf), we can calculate the probability that the elevator will arrive in under 17 seconds: $$\\frac{d-c}{b-a}$$ Here we see that there is a 42.5% chance that it will arrive in under 17 seconds."
   ]
  },
  {
   "cell_type": "code",
   "execution_count": 25,
   "metadata": {},
   "outputs": [
    {
     "name": "stdout",
     "output_type": "stream",
     "text": [
      "0.425\n"
     ]
    }
   ],
   "source": [
    "c = 0\n",
    "d = 17\n",
    "cdf = (d-c)/(b-a)\n",
    "print(cdf)"
   ]
  },
  {
   "cell_type": "markdown",
   "metadata": {},
   "source": [
    "<br>\n",
    "\n",
    "### References\n",
    "\n",
    "[7] Nichoal School of the Environment; Continuous Probability Distributions https://sites.nicholas.duke.edu/statsreview/continuous-probability-distributions/ <br>\n",
    "[8] UCD Maths Support Centre; Uniform Distribution (Continuous); https://www.ucd.ie/msc/t4media/Uniform%20Distribution.pdf <br>"
   ]
  },
  {
   "cell_type": "markdown",
   "metadata": {},
   "source": [
    "##### end section 3.1\n",
    "\n",
    "<br>\n",
    "\n"
   ]
  },
  {
   "cell_type": "markdown",
   "metadata": {},
   "source": [
    "<br>\n",
    "\n",
    "### 3.2 Binomial\n",
    "***\n",
    "\n",
    "The binomial distribution is an example of a *discrete probability distribution*. It is used to model a given number of random trials (represented by parameter *n* in the `.binomial()` method) for some experiment or event [9]. Its probability mass function is expressed as:\n",
    "\n",
    "$${n\\choose{k}}p^kq^{n-k}$$\n",
    "\n",
    "\n",
    "##### Coin toss\n",
    "To demonstrate the binomial distribution in practical terms, the coin toss example is often used [10], [11], [12]. When we toss a fair coin, there are only two possible outcomes - heads or tails - and each outcome has an equal probability (*p=0.5*) of arising. If we say that 'heads' denotes a 'success', we can perform the coin toss *n* number of times, counting the number of successes we observe. This number will have a binomial distribution.\n",
    "\n",
    "Using `rng.binomial` below, I simulate the coin toss and plot the resulting distribution on a histogram. There are 10 trials (n=10), with a 50% probability of success (p=0.5). This is performed 10,000 times. [13]\n",
    "\n"
   ]
  },
  {
   "cell_type": "code",
   "execution_count": 26,
   "metadata": {
    "scrolled": true
   },
   "outputs": [],
   "source": [
    "n, p = 10, .5  # number of trials, probability of each trial\n",
    "unbiased_coin = rng.binomial(n, p, 10000) # result of tossing a coin 10 times, tested 1000 times."
   ]
  },
  {
   "cell_type": "code",
   "execution_count": 27,
   "metadata": {},
   "outputs": [
    {
     "data": {
      "image/png": "[encoded data removed]",
      "text/plain": [
       "<Figure size 432x288 with 1 Axes>"
      ]
     },
     "metadata": {},
     "output_type": "display_data"
    }
   ],
   "source": [
    "plt.hist(unbiased_coin, color = 'green')\n",
    "plt.title(\"unbiased coin\")\n",
    "plt.show()"
   ]
  },
  {
   "cell_type": "markdown",
   "metadata": {},
   "source": [
    "<br>\n",
    "\n",
    "This has the appearance of a normal distribution (explored below). If the probability of success is changed however (i.e. we add a bias to the coin), we observe a change in the shape of the distribution - it becomes asymmetrical:"
   ]
  },
  {
   "cell_type": "code",
   "execution_count": 28,
   "metadata": {},
   "outputs": [],
   "source": [
    "n, p = 10, .75  # number of trials, probability of each trial\n",
    "biased_coin = rng.binomial(n, p, 10000) # result of tossing a coin 10 times, tested 10000 times."
   ]
  },
  {
   "cell_type": "code",
   "execution_count": 29,
   "metadata": {},
   "outputs": [
    {
     "data": {
      "image/png": "[encoded data removed]",
      "text/plain": [
       "<Figure size 432x288 with 1 Axes>"
      ]
     },
     "metadata": {},
     "output_type": "display_data"
    }
   ],
   "source": [
    "plt.hist(biased_coin, color='green')\n",
    "plt.title(\"biased coin\")\n",
    "plt.show()"
   ]
  },
  {
   "cell_type": "markdown",
   "metadata": {},
   "source": [
    "##### Bernoulli trial\n",
    "***\n",
    "\n",
    "It is important to make reference at this point to the **Bernoulli trial**, which plays a role in the modelling of various distributions covered by the np.random package. A Bernoulli trial is a single random experiment in which there are exactly two possible outcomes, usually denoted as 'success' or 'failure' [14]. Looking at the coin toss example demonstrated above, we can say that each toss of the coin was a Bernoulli trial, where a 'heads' was a success and therefore 'tails' was denoted a failure. This single trial was then run 10 times and in turn, this was repeated 10,000 times."
   ]
  },
  {
   "cell_type": "markdown",
   "metadata": {},
   "source": [
    "<br>\n",
    "\n",
    "### References\n",
    "\n",
    "[9] Hamel, Greg; Python for Data 22: Probability Distributions; https://www.kaggle.com/hamelg/python-for-data-22-probability-distributions <br> **here too**\n",
    "[10] *Ibid* <br>\n",
    "[11] onlinestatsbook.com; Binomial Distribution; http://onlinestatbook.com/2/probability/binomial.html <br>\n",
    "[12] Wikipedia; Bernoulli Trial; https://en.wikipedia.org/wiki/Bernoulli_trial <br>\n",
    "[13] numpy.org; numpy.random.Generator.binomial; https://numpy.org/doc/stable/reference/random/generated/numpy.random.Generator.binomial.html#numpy.random.Generator.binomial <br>\n",
    "[14] Wikipedia; Bernouill Trial; https://en.wikipedia.org/wiki/Bernoulli_trial<br>\n"
   ]
  },
  {
   "cell_type": "markdown",
   "metadata": {},
   "source": [
    "<br>\n",
    "\n",
    "##### end section 3.2\n",
    "\n",
    "<br>\n",
    "\n"
   ]
  },
  {
   "cell_type": "markdown",
   "metadata": {},
   "source": [
    "### 3.3 Normal\n",
    "***\n",
    "The normal distribution, also known as the Gaussian distribution or bell curve, is a continuous probability distribution which is often considered to be the most important in the field of statistics because of the frequency of its occurrence in the natural world [15]. This explains why it is often used to model the distribution random variables. The probability density function (pdf) of the normal distribution is expressed as:\n",
    "\n",
    "$$ p(x) = \\frac{1}{\\sigma\\sqrt{2\\pi}}e^{\\frac{-1}{2}(\\frac{x-\\mu}{\\sigma})}$$\n",
    "\n",
    "where $\\mu$ (mu) is the mean or median and $\\sigma$ (sigma) is the standard deviation. The pdf gives the height of the curve at point $x$ [16]. A random variable has an increasing probability of being generated the closer its value to the mean. More specifically, in normal distributions, approximately 68% of the data falls within one standard deviation of the the mean, 95% within 2 standard deviations and 99.7% within 3 standard deviations [17]. \n",
    "\n"
   ]
  },
  {
   "attachments": {},
   "cell_type": "markdown",
   "metadata": {},
   "source": [
    "![](std_normal.png)\n",
    "\n",
    "\n",
    "\n",
    "\n",
    "<br>\n",
    "(Image found at sophia.org) [18].\n"
   ]
  },
  {
   "cell_type": "markdown",
   "metadata": {},
   "source": [
    "<br>\n",
    "\n",
    "Using the numpy.random package, we can draw random samples from a normal distribution through the random.Generator.normal method. The desired mean and standard deviation are passed as parameters to the function and a specified number of random variables are derived. "
   ]
  },
  {
   "cell_type": "code",
   "execution_count": 30,
   "metadata": {},
   "outputs": [
    {
     "data": {
      "text/plain": [
       "2.4325460609825393"
      ]
     },
     "execution_count": 30,
     "metadata": {},
     "output_type": "execute_result"
    }
   ],
   "source": [
    "# Return a single sample value from a normally distributed variable with mean=5 and standard deviation=3\n",
    "rng.normal(loc=5, scale=3)"
   ]
  },
  {
   "cell_type": "code",
   "execution_count": 31,
   "metadata": {},
   "outputs": [
    {
     "data": {
      "text/plain": [
       "array([ 8.18957658,  1.54112404,  7.47708421, -0.82398382,  2.03338223,\n",
       "        3.51908277,  7.83021491,  6.65910641,  5.42880377,  5.86592224,\n",
       "        3.83734714,  4.82498111, -0.19424604,  5.56296388,  7.04983281,\n",
       "        4.0815146 ,  2.71531028,  2.89023057,  1.27132822,  6.0374982 ,\n",
       "        2.69128729,  2.12325512,  5.87788337,  7.18206028,  5.76405057,\n",
       "        5.16215917,  1.55765329,  3.56036417,  4.16524405,  7.04367106,\n",
       "        3.92603569,  6.41382568,  3.80313952,  3.7476842 ,  3.77815319,\n",
       "        9.70996801,  6.02905603,  6.84716228,  0.87338487,  4.26797319,\n",
       "        2.87714765,  4.33101412,  8.75440051,  2.30336176,  4.07524847,\n",
       "        9.96303638,  4.50020971,  4.25275765, 10.84053054, 14.05935535])"
      ]
     },
     "execution_count": 31,
     "metadata": {},
     "output_type": "execute_result"
    }
   ],
   "source": [
    "# Return a 1d array of 50 values of a normally distributed random variable with mean=5 and standard deviation=3\n",
    "norm = rng.normal(loc=5, scale=3, size=50)\n",
    "norm"
   ]
  },
  {
   "cell_type": "markdown",
   "metadata": {},
   "source": [
    "Plot the distribution using a histogram:"
   ]
  },
  {
   "cell_type": "code",
   "execution_count": 32,
   "metadata": {},
   "outputs": [
    {
     "data": {
      "text/plain": [
       "(array([ 2.,  6.,  7., 13.,  9.,  7.,  2.,  3.,  0.,  1.]),\n",
       " array([-0.82398382,  0.6643501 ,  2.15268402,  3.64101793,  5.12935185,\n",
       "         6.61768577,  8.10601968,  9.5943536 , 11.08268752, 12.57102143,\n",
       "        14.05935535]),\n",
       " <a list of 10 Patch objects>)"
      ]
     },
     "execution_count": 32,
     "metadata": {},
     "output_type": "execute_result"
    },
    {
     "data": {
      "image/png": "[encoded data removed]",
      "text/plain": [
       "<Figure size 432x288 with 1 Axes>"
      ]
     },
     "metadata": {},
     "output_type": "display_data"
    }
   ],
   "source": [
    "plt.hist(norm, color='orange')"
   ]
  },
  {
   "cell_type": "markdown",
   "metadata": {},
   "source": [
    "The more observations we plot, the more the histogram resembles the classic symmetric shape associated with normal distribution:"
   ]
  },
  {
   "cell_type": "code",
   "execution_count": 33,
   "metadata": {},
   "outputs": [
    {
     "data": {
      "text/plain": [
       "(array([   7.,   89.,  456., 1395., 2562., 2807., 1838.,  693.,  134.,\n",
       "          19.]),\n",
       " array([-6.57328244, -4.34673131, -2.12018018,  0.10637095,  2.33292208,\n",
       "         4.55947321,  6.78602434,  9.01257547, 11.2391266 , 13.46567774,\n",
       "        15.69222887]),\n",
       " <a list of 10 Patch objects>)"
      ]
     },
     "execution_count": 33,
     "metadata": {},
     "output_type": "execute_result"
    },
    {
     "data": {
      "image/png": "[encoded data removed]",
      "text/plain": [
       "<Figure size 432x288 with 1 Axes>"
      ]
     },
     "metadata": {},
     "output_type": "display_data"
    }
   ],
   "source": [
    "# 10,000 observations\n",
    "norm1 = rng.normal(loc=5, scale=3, size=10000)\n",
    "plt.hist(norm1, color='orange')"
   ]
  },
  {
   "cell_type": "code",
   "execution_count": 34,
   "metadata": {},
   "outputs": [
    {
     "data": {
      "text/plain": [
       "4.90948734727804"
      ]
     },
     "execution_count": 34,
     "metadata": {},
     "output_type": "execute_result"
    }
   ],
   "source": [
    "# We would expect the mean of the distribution to be close to the value assigned (5)\n",
    "np.mean(norm1)"
   ]
  },
  {
   "cell_type": "code",
   "execution_count": 35,
   "metadata": {},
   "outputs": [
    {
     "data": {
      "text/plain": [
       "2.9679065268639553"
      ]
     },
     "execution_count": 35,
     "metadata": {},
     "output_type": "execute_result"
    }
   ],
   "source": [
    "# We would expect the standard deviation to be close to value assigned (3)\n",
    "np.std(norm1)"
   ]
  },
  {
   "cell_type": "markdown",
   "metadata": {},
   "source": [
    "***\n",
    "A **standard normal distribution** has a mean of 0 and standard deviation of 1. The standard normal distribution is explored below with the associated density function"
   ]
  },
  {
   "cell_type": "code",
   "execution_count": 36,
   "metadata": {},
   "outputs": [],
   "source": [
    "# Draw samples from a standard normal distribution\n",
    "mu, sigma = 0, 1\n",
    "\n",
    "norm2 = np.random.default_rng().normal(mu, sigma, 10000)"
   ]
  },
  {
   "cell_type": "code",
   "execution_count": 37,
   "metadata": {},
   "outputs": [
    {
     "data": {
      "image/png": "[encoded data removed]",
      "text/plain": [
       "<Figure size 432x288 with 1 Axes>"
      ]
     },
     "metadata": {},
     "output_type": "display_data"
    }
   ],
   "source": [
    "# Taken from the numpy.random documentation, use matplotlib to plot the\n",
    "# probability density function for a standard normal distribution\n",
    "count, bins, ignored = plt.hist(norm2, 30, density=True)\n",
    "\n",
    "# The probability density function is coded out and passed\n",
    "plt.plot(bins, 1/(sigma * np.sqrt(2 * np.pi)) *\n",
    "\n",
    "               np.exp( - (bins - mu)**2 / (2 * sigma**2) ),\n",
    "\n",
    "         linewidth=2, color='b')\n",
    "\n",
    "plt.show()"
   ]
  },
  {
   "cell_type": "code",
   "execution_count": 38,
   "metadata": {},
   "outputs": [
    {
     "data": {
      "text/plain": [
       "<matplotlib.axes._subplots.AxesSubplot at 0x1c20e1bd5b0>"
      ]
     },
     "execution_count": 38,
     "metadata": {},
     "output_type": "execute_result"
    },
    {
     "data": {
      "image/png": "[encoded data removed]",
      "text/plain": [
       "<Figure size 288x288 with 1 Axes>"
      ]
     },
     "metadata": {},
     "output_type": "display_data"
    }
   ],
   "source": [
    "# Plot density function using Pandas\n",
    "pd.DataFrame(norm2).plot(kind=\"density\", figsize=(4,4), xlim=(-4, 4), color='blue')"
   ]
  },
  {
   "cell_type": "markdown",
   "metadata": {},
   "source": [
    "##### Different standard deviations\n",
    "\n",
    "The standard deviation (sigma) determines the width of the curve. The lower the standard deviation, the higher the probability of the random variable being closer to the mean. We can visualise the affect of lowering or raising the value of sigma when we plot the distributions on plots of equal dimension. [19]"
   ]
  },
  {
   "cell_type": "code",
   "execution_count": 39,
   "metadata": {},
   "outputs": [
    {
     "data": {
      "image/png": "[encoded data removed]",
      "text/plain": [
       "<Figure size 432x288 with 1 Axes>"
      ]
     },
     "metadata": {},
     "output_type": "display_data"
    }
   ],
   "source": [
    "# With a mean of 0 and standard deviation of 2\n",
    "N = 500000\n",
    "mu = 0.0\n",
    "sigma = 2.0 \n",
    "norm3 = np.random.default_rng().normal(mu, sigma, size=N)\n",
    "plt.axis([-6, 6, 0, 0.40])\n",
    "_,_,_ = plt.hist(norm3, 50, density=True)"
   ]
  },
  {
   "cell_type": "code",
   "execution_count": 40,
   "metadata": {},
   "outputs": [
    {
     "data": {
      "image/png": "[encoded data removed]",
      "text/plain": [
       "<Figure size 432x288 with 1 Axes>"
      ]
     },
     "metadata": {},
     "output_type": "display_data"
    }
   ],
   "source": [
    "# Lowering the standard deviation we can see the curve narrows \n",
    "N = 500000\n",
    "mu = 0.0\n",
    "sigma = 1.0 # lower standard deviation\n",
    "norm4 = np.random.normal(loc=mu, scale=sigma, size=N)\n",
    "plt.axis([-6, 6, 0, 0.40])\n",
    "_,_,_ = plt.hist(norm4, 50, density=True)"
   ]
  },
  {
   "cell_type": "markdown",
   "metadata": {},
   "source": [
    "<br>\n",
    "\n",
    "### References\n",
    "[15] Frost, Jim; Normal Distribution in Statistics;\thttps://statisticsbyjim.com/basics/normal-distribution/ <br>\n",
    "[16] JB Statistics; An Introduction to the Normal Distribution; https://www.youtube.com/watch?v=iYiOVISWXS4 <br>\n",
    "[17] Python for Data 22: Probability Distributions https://www.kaggle.com/hamelg/python-for-data-22-probability-distributions <br>\n",
    "[18] sophia.org; 68-95-99.7 Rule; https://www.sophia.org/tutorials/68-95-997-rule-2?pathway=central-tendency-variation-and-distributions <br> \n",
    "[19] *code take from:* Lecture 18;  https://www.math.uci.edu/~isik/teaching/17W_MATH9/notes/Lecture18.html"
   ]
  },
  {
   "cell_type": "markdown",
   "metadata": {},
   "source": [
    "<br>\n",
    "\n",
    "##### end section 3.3"
   ]
  },
  {
   "cell_type": "markdown",
   "metadata": {},
   "source": [
    "### 3.4 Poisson \n",
    "***\n",
    "\n",
    "A poisson random variable is a count of the number of occurences of an event. Often, these events occur within a given period of time, but they can also occur within a given area, volume or distance [20]. For the current project, I will be discussing the poisson distribution in relation to time. \n",
    "\n",
    "Like the binomial distribution discussed above, it is a discrete probability distribution which means that the random variable will have a dicrete number of possible values with a poisson distribution. Again, similar to the binomial distribution, we can use the concept of the Bernoulli trial when counting the number of *successes* or *failures* within a given time period. As with all discrete probability distributions, it has an associated probability mass function (pmf), which calculates the probability of $k$ events occuring, with the mean $\\lambda$. For the poisson distribution it is expressed as: <br> \n",
    "\n",
    "$$f(k;\\lambda) = \\frac{\\lambda^ke^{-\\lambda}}{k!}$$\n",
    "\n",
    "\n",
    "\n",
    "\n",
    "#### Modelling of real life situations\n",
    "A common example of how the poisson distribution can be utilised, is in modelling traffic. This may refer to the number of cars passing through a junction in ten minutes, the number customers entering a restaurant during opening hours, the number of emails someone might receive in a day etc. [21]. Below, I use the `np.random.rng.poisson` function to model the probability distribution of customers entering a hypothetical café. For the model, there will be an average of 3.7 customers entering the café every hour, over a period of 10,000 hours. The parameter *lam* is the average value (referred to as lambda or $\\lambda$ in the poisson distribution) and the *size* equals the number of hours.\n",
    "\n",
    "\n",
    "\n"
   ]
  },
  {
   "cell_type": "code",
   "execution_count": 41,
   "metadata": {},
   "outputs": [],
   "source": [
    "pois_low_ave = rng.poisson(lam=3.7, size=10000)"
   ]
  },
  {
   "cell_type": "markdown",
   "metadata": {},
   "source": [
    "Visualising the distribution on a histogram, we can see that the probability of seeing a certain number of customers entering the café increases around the average value of 3.7. We can also clearly see some right-skewness in the shape, with probability decreasing as the number of customers increases."
   ]
  },
  {
   "cell_type": "code",
   "execution_count": 42,
   "metadata": {},
   "outputs": [
    {
     "data": {
      "image/png": "[encoded data removed]",
      "text/plain": [
       "<Figure size 432x288 with 1 Axes>"
      ]
     },
     "metadata": {},
     "output_type": "display_data"
    }
   ],
   "source": [
    "bins = max(pois_low_ave) + 1\n",
    "count, bins, ignored = plt.hist(pois_low_ave, bins, density=False, color=\"purple\")\n",
    "\n",
    "plt.title('Cafe Customers: low average')\n",
    "plt.xlabel('customers per hour')\n",
    "plt.ylabel('probability')\n",
    " \n",
    "\n",
    "plt.show()"
   ]
  },
  {
   "cell_type": "markdown",
   "metadata": {},
   "source": [
    "It is interesting to note that the shape of the distribution becomes more symmetrical the higher the value for lambda. If we say that the average number of customers entering per hour is 10, we observe the following distribution:"
   ]
  },
  {
   "cell_type": "code",
   "execution_count": 43,
   "metadata": {},
   "outputs": [],
   "source": [
    "pois_high_ave = rng.poisson(lam=10, size=10000)"
   ]
  },
  {
   "cell_type": "code",
   "execution_count": 44,
   "metadata": {},
   "outputs": [
    {
     "data": {
      "image/png": "[encoded data removed]",
      "text/plain": [
       "<Figure size 432x288 with 1 Axes>"
      ]
     },
     "metadata": {},
     "output_type": "display_data"
    }
   ],
   "source": [
    "bins = max(pois_high_ave) + 1\n",
    "count, bins, ignored = plt.hist(pois_high_ave, bins, density=True, color='purple')\n",
    "\n",
    "plt.title('Cafe Customers: high average')\n",
    "plt.xlabel('customers per hour')\n",
    "plt.ylabel('probability')\n",
    " \n",
    "\n",
    "plt.show()"
   ]
  },
  {
   "cell_type": "markdown",
   "metadata": {},
   "source": [
    "#### Assumptions\n",
    "\n",
    "When selecting the poisson distribution as a model, it is important to note two assumptions which must be taken into account before any analysis can take place:\n",
    "\n",
    "* The probability that an event occurs in a given unit of time does not change through time; <br>\n",
    "* Each event must be occuring independently of the others i.e. each one must be random [22] <br>\n",
    "\n",
    "This has implications for the café model above when we take some real-life factors into account. First of all, we are much more likely to see an increase in customers during luchtime or dinnertime. Clearly the probability of customers entering will increase during these hours. Secondly, it is likely more common that customers enter a café in groups of at least 2. Therefore, each event is unilkely to be independent of one another. Because of these underlying assumptions, it should always be borne in mind the extent to which the poisson distribution is an approximation of real world events. One must choose wisely when considering whether to use the poisson distribution as a model. \n",
    "\n"
   ]
  },
  {
   "cell_type": "markdown",
   "metadata": {},
   "source": [
    "<br>\n",
    "\n",
    "### References\n",
    "[20] jbstatistics; An Introduction to the Poisson Distribution; https://www.youtube.com/watch?v=jmqZG6roVqU <br>\n",
    "[21] Hamel, Greg; Python for Data 22: Probability Distributions; https://www.kaggle.com/hamelg/python-for-data-22-probability-distributions <br> \n",
    "[22] jbstatistics; An Introduction to the Poisson Distribution; https://www.youtube.com/watch?v=jmqZG6roVqU <br> \n"
   ]
  },
  {
   "cell_type": "markdown",
   "metadata": {},
   "source": [
    "<br>\n",
    "\n",
    "##### end section 3.4\n"
   ]
  },
  {
   "cell_type": "markdown",
   "metadata": {},
   "source": [
    "### 3.5 Geometric\n",
    "***\n",
    "\n",
    "The geometric distribution, like the poisson and binomial distributions above, is a discrete probability distribution. It models of the number of trials needed to get the first success in repeated, independent Bernoulli trials. As discussed earlier, a Bernoulli trial is a trial in which there is only two possible outcomes (success or failure). If we say that the probability of success is equal to $p$, we can say that the probability of failure can be calculated by $1 - p$. This is important probabilistic feature of Bernoulli trials and is captured in the probability mass function for the geometric distribution: <br>\n",
    "\n",
    "$$f(k) = (1-p)^{k-1}p $$\n",
    "\n",
    "#### Modelling of real life situation\n",
    "\n",
    "The geometric distribution is applicable in any number of real world situations. The example chosen here concerns the often contentious issue of nationality: In the wake of the UK's Brexit referendum, the surge in interest in eligibility for an Irish passport became a much-publicized topic of discussion. This BBC article from 2016 [23] made the conservative estimate that 6.7 million Britons would qualify for Irish citizenship. The population of UK being roughly 67 million, the probability of coming across a British person of Irish heritage is approximately 10%. \n",
    "\n",
    "It is this situation which has guided the model below, using the `np.random.Generator.geometric` function. Out of a sample of 10,000 *(size = 10000)* British people, we can generate a geometric distribution which models the number of trials it takes to get a success (i.e. landing on a person of Irish heritage out of a sample of 10,000 British people)."
   ]
  },
  {
   "cell_type": "code",
   "execution_count": 45,
   "metadata": {},
   "outputs": [],
   "source": [
    "irish_heritage = np.random.default_rng().geometric(p=0.10, size=10000)"
   ]
  },
  {
   "cell_type": "markdown",
   "metadata": {},
   "source": [
    "When we plot the data on a histogram, the characterstic shape of the geometric distribution becomes apparent. It is heavily skewed to the right, which makes sense given the context outlined above. We would expect there to be a 10% chance of picking out a person of Irish heritage on the first trial, given that approximately 10% of the sample are of Irish heritage. Logically, the probability that each subsequent trial will be the first to produce a success, decreases as we progress through the experiment. It is theoretically possible that no people of Irish heritage are in the sample (however unlikely) and so the x-axis is said to continue to infinity in a geometric distribution."
   ]
  },
  {
   "cell_type": "code",
   "execution_count": 46,
   "metadata": {},
   "outputs": [
    {
     "data": {
      "image/png": "[encoded data removed]",
      "text/plain": [
       "<Figure size 432x288 with 1 Axes>"
      ]
     },
     "metadata": {},
     "output_type": "display_data"
    }
   ],
   "source": [
    "bins = max(irish_heritage) + 1\n",
    "plt.title('Irish Heritage in UK')\n",
    "plt.xlabel('no. of trials')\n",
    "plt.ylabel('probability')\n",
    "\n",
    "count, bins, ignored = plt.hist(irish_heritage, bins, density=True)"
   ]
  },
  {
   "cell_type": "markdown",
   "metadata": {},
   "source": [
    "Using the probability mass function shown above, we can calculate the probability of counting a specific number of people in the sample before landing on a person of Irish heritage. Let us see what the probability would be after 20 trials:"
   ]
  },
  {
   "cell_type": "code",
   "execution_count": 47,
   "metadata": {},
   "outputs": [
    {
     "name": "stdout",
     "output_type": "stream",
     "text": [
      "0.013508517176729929\n"
     ]
    }
   ],
   "source": [
    "pmf = (1-0.1)**(20-1)*(0.1)\n",
    "print(pmf)"
   ]
  },
  {
   "cell_type": "markdown",
   "metadata": {},
   "source": [
    "This gives us a probability of 1.35%. We can see that this matches with the histogram. \n",
    "\n",
    "<br>\n",
    "Using the cumulative distribution function (cdf), we can make further probability calculations:\n",
    "<br>\n",
    "\n",
    "$$1-(1-p)^k$$\n",
    "\n",
    "We can use the cdf to calculate the probability of success in the first five trials:"
   ]
  },
  {
   "cell_type": "code",
   "execution_count": 48,
   "metadata": {},
   "outputs": [
    {
     "data": {
      "text/plain": [
       "0.40950999999999993"
      ]
     },
     "execution_count": 48,
     "metadata": {},
     "output_type": "execute_result"
    }
   ],
   "source": [
    "cdf = 1 - (1-0.1)**5\n",
    "cdf"
   ]
  },
  {
   "cell_type": "markdown",
   "metadata": {},
   "source": [
    "This tells us that there is roughly a 40% chance of coming across a person of Irish heritage in the first 5 people we count "
   ]
  },
  {
   "cell_type": "markdown",
   "metadata": {},
   "source": [
    "<br>\n",
    "\n",
    "### References\n",
    "[23] bbc.com; How Many Britons Are Entitled To An Irish Passport?; https://www.bbc.com/news/magazine-37246769 <br>"
   ]
  },
  {
   "cell_type": "markdown",
   "metadata": {},
   "source": [
    "##### end section 3"
   ]
  },
  {
   "cell_type": "markdown",
   "metadata": {},
   "source": [
    "## 4. Seeds\n",
    "#### Explain the use of seeds in generating random numbers\n",
    "***\n",
    "\n",
    "The seed refers to the initial number (or vector) from which all subsequent numbers are generated in a pseudorandom number generator [24]. So long as the seed (and generator algorithm) is unknown to the user, the numbers generated will appear random. However, it is possible to discover this number and so to determine the 'random' numbers that are calculated from it, as it is generated by a human-made computer program (i.e. deterministic). It is this fact that gives the numbers generated their *pseudorandom* nature. \n",
    "\n",
    "\n",
    "##### PCG64 vs MT19937\n",
    "The default generator used by the current version of Numpy.random is the *PCG64* (Permuted Congruential Generator). The use of this algorithm is a departure from the legacy `RandomState` package whose `BitGenerator` is the MT19937 (Mersenne Twister) [25]. Still today, the Mersenne Twister algorithm is the most widely used general purpose PRNG [26]. In deciding to replace the PCG with the MT19937, the following reasoning was assessed:\n",
    "\n",
    "\"The main downsides of MT19937 are mostly that it is slower than some of the available alternatives, due to its very large state, and that it fails some statistical quality tests\", while regarding the PCG, \"the main downside is that it uses 128-bit integer arithmetic, which is emulated in C if the compiler does not provide such an integer type\" [27]. In weighing up these pros and cons, efficiency was prioritised and the PCG was chosen.\n",
    "\n",
    "##### Setting the seed\n",
    "***\n",
    "Seed in Numpy.random (v1.15 vs v1.19) \n",
    "\n",
    "Some analysts have recommended to avoid using the legacy approach of setting the seed via `np.random.seed`, even though this approach can still be taken under the current version [28]. Using `np.random.seed` resets the seed of the *global* PRNG, which is created as soon as Numpy is imported:"
   ]
  },
  {
   "cell_type": "code",
   "execution_count": 49,
   "metadata": {},
   "outputs": [],
   "source": [
    "np.random.seed(12)\n",
    "x = np.random.randint(1, 700)"
   ]
  },
  {
   "cell_type": "code",
   "execution_count": 50,
   "metadata": {},
   "outputs": [
    {
     "name": "stdout",
     "output_type": "stream",
     "text": [
      "668\n"
     ]
    }
   ],
   "source": [
    "print(x)"
   ]
  },
  {
   "cell_type": "code",
   "execution_count": 51,
   "metadata": {},
   "outputs": [
    {
     "name": "stdout",
     "output_type": "stream",
     "text": [
      "668\n"
     ]
    }
   ],
   "source": [
    "print(x)"
   ]
  },
  {
   "cell_type": "markdown",
   "metadata": {},
   "source": [
    "Rather, it is advised to create a single RNG (and seed it if desired) at the beginning of a script:"
   ]
  },
  {
   "cell_type": "code",
   "execution_count": 52,
   "metadata": {},
   "outputs": [],
   "source": [
    "rng = np.random.default_rng(12)\n",
    "x = rng.integers(1, 10, 10)"
   ]
  },
  {
   "cell_type": "code",
   "execution_count": 53,
   "metadata": {},
   "outputs": [
    {
     "name": "stdout",
     "output_type": "stream",
     "text": [
      "[6 3 9 9 1 2 2 2 6 4]\n"
     ]
    }
   ],
   "source": [
    "print(x)"
   ]
  },
  {
   "cell_type": "code",
   "execution_count": 54,
   "metadata": {},
   "outputs": [
    {
     "name": "stdout",
     "output_type": "stream",
     "text": [
      "[6 3 9 9 1 2 2 2 6 4]\n"
     ]
    }
   ],
   "source": [
    "print(x)"
   ]
  },
  {
   "cell_type": "markdown",
   "metadata": {},
   "source": [
    "Setting the seed of the global PRNG can cause issues when attempting to use `np.random` functions somewhere else in the codebase. As advised by Robert Kern, \"The preferred best practice for getting reproducible pseudorandom numbers is to instantiate a generator object with a seed and pass it around [29].\""
   ]
  },
  {
   "cell_type": "markdown",
   "metadata": {},
   "source": [
    "<br>\n",
    "\n",
    "***\n",
    "\n",
    "#### Setting the seed for reproducibility\n",
    "\n",
    "In the analysis of data, there are certain occasions when the generation of random numbers will be necessary. For example, if we want to simulate some real life event where randomness is integral to the observations we make, we need to be able to recreate this randomness in our simulation to maximise accuracy in our analysis. There are also occasions however, when we will need to make use of a *seed*. Using a seed allows for reproducibility, which is a very important practice in data science. For example, when splitting data into training and testing sets, using a seed will guarantee that our data is split in the same way for each iteration of our code [30]. The short program below demonstrates this."
   ]
  },
  {
   "cell_type": "markdown",
   "metadata": {},
   "source": [
    "In this example I split the *Salary_Data* ([31]) dataset into separate train and test sets using Scikit-learn's `train_test_split` method. The seed is set using the *random_state* argument. This creates a reproducible model. It is basic but it is reproducible nonetheless. This is something that is highly valued in data analytics, not least because reproducibility is the \" ...only thing that an investigator can guarantee about a study\" [32].\n",
    "\n",
    "This program trains a simple linear regression model, however the primary focus here is the use of the seed. "
   ]
  },
  {
   "cell_type": "code",
   "execution_count": 55,
   "metadata": {},
   "outputs": [
    {
     "data": {
      "text/html": [
       "<div>\n",
       "<style scoped>\n",
       "    .dataframe tbody tr th:only-of-type {\n",
       "        vertical-align: middle;\n",
       "    }\n",
       "\n",
       "    .dataframe tbody tr th {\n",
       "        vertical-align: top;\n",
       "    }\n",
       "\n",
       "    .dataframe thead th {\n",
       "        text-align: right;\n",
       "    }\n",
       "</style>\n",
       "<table border=\"1\" class=\"dataframe\">\n",
       "  <thead>\n",
       "    <tr style=\"text-align: right;\">\n",
       "      <th></th>\n",
       "      <th>YearsExperience</th>\n",
       "      <th>Salary</th>\n",
       "    </tr>\n",
       "  </thead>\n",
       "  <tbody>\n",
       "    <tr>\n",
       "      <th>0</th>\n",
       "      <td>1.1</td>\n",
       "      <td>39343.0</td>\n",
       "    </tr>\n",
       "    <tr>\n",
       "      <th>1</th>\n",
       "      <td>1.3</td>\n",
       "      <td>46205.0</td>\n",
       "    </tr>\n",
       "    <tr>\n",
       "      <th>2</th>\n",
       "      <td>1.5</td>\n",
       "      <td>37731.0</td>\n",
       "    </tr>\n",
       "    <tr>\n",
       "      <th>3</th>\n",
       "      <td>2.0</td>\n",
       "      <td>43525.0</td>\n",
       "    </tr>\n",
       "    <tr>\n",
       "      <th>4</th>\n",
       "      <td>2.2</td>\n",
       "      <td>39891.0</td>\n",
       "    </tr>\n",
       "  </tbody>\n",
       "</table>\n",
       "</div>"
      ],
      "text/plain": [
       "   YearsExperience   Salary\n",
       "0              1.1  39343.0\n",
       "1              1.3  46205.0\n",
       "2              1.5  37731.0\n",
       "3              2.0  43525.0\n",
       "4              2.2  39891.0"
      ]
     },
     "execution_count": 55,
     "metadata": {},
     "output_type": "execute_result"
    }
   ],
   "source": [
    "df = pd.read_csv(\"Salary_Data.csv\")\n",
    "df.head()"
   ]
  },
  {
   "cell_type": "markdown",
   "metadata": {},
   "source": [
    "Plotting the data on a scatter plot we can see clearly that a simple linear regression model would be best suited.\n",
    "\n",
    "<br>"
   ]
  },
  {
   "cell_type": "code",
   "execution_count": 56,
   "metadata": {},
   "outputs": [
    {
     "data": {
      "text/plain": [
       "<matplotlib.collections.PathCollection at 0x1c20e02ae50>"
      ]
     },
     "execution_count": 56,
     "metadata": {},
     "output_type": "execute_result"
    },
    {
     "data": {
      "image/png": "[encoded data removed]",
      "text/plain": [
       "<Figure size 432x288 with 1 Axes>"
      ]
     },
     "metadata": {},
     "output_type": "display_data"
    }
   ],
   "source": [
    "plt.scatter(df['YearsExperience'], df['Salary'])"
   ]
  },
  {
   "cell_type": "code",
   "execution_count": 57,
   "metadata": {},
   "outputs": [],
   "source": [
    "from sklearn.model_selection import train_test_split"
   ]
  },
  {
   "cell_type": "code",
   "execution_count": 58,
   "metadata": {},
   "outputs": [],
   "source": [
    "X = df.iloc[:, :-1].values"
   ]
  },
  {
   "cell_type": "code",
   "execution_count": 59,
   "metadata": {},
   "outputs": [],
   "source": [
    "Y = df.iloc[:, 1].values"
   ]
  },
  {
   "cell_type": "markdown",
   "metadata": {},
   "source": [
    "<br>\n",
    "\n",
    "The random_state argument is passed here, setting the seed."
   ]
  },
  {
   "cell_type": "code",
   "execution_count": 60,
   "metadata": {},
   "outputs": [],
   "source": [
    "X_train, X_test, Y_train, Y_test = train_test_split(X, Y, test_size = 0.2, random_state=11)"
   ]
  },
  {
   "cell_type": "code",
   "execution_count": 61,
   "metadata": {},
   "outputs": [],
   "source": [
    "first_run = X_train"
   ]
  },
  {
   "cell_type": "code",
   "execution_count": 62,
   "metadata": {},
   "outputs": [],
   "source": [
    "X_train, X_test, Y_train, Y_test = train_test_split(X, Y, test_size = 0.2, random_state=11)"
   ]
  },
  {
   "cell_type": "code",
   "execution_count": 63,
   "metadata": {},
   "outputs": [],
   "source": [
    "second_run = X_train"
   ]
  },
  {
   "cell_type": "code",
   "execution_count": 64,
   "metadata": {},
   "outputs": [
    {
     "name": "stdout",
     "output_type": "stream",
     "text": [
      "True\n"
     ]
    }
   ],
   "source": [
    "print(np.all(first_run == second_run))"
   ]
  },
  {
   "cell_type": "markdown",
   "metadata": {},
   "source": [
    "Fit the data to a linear regression model"
   ]
  },
  {
   "cell_type": "code",
   "execution_count": 65,
   "metadata": {},
   "outputs": [],
   "source": [
    "from sklearn.linear_model import LinearRegression"
   ]
  },
  {
   "cell_type": "code",
   "execution_count": 66,
   "metadata": {},
   "outputs": [
    {
     "data": {
      "text/plain": [
       "LinearRegression()"
      ]
     },
     "execution_count": 66,
     "metadata": {},
     "output_type": "execute_result"
    }
   ],
   "source": [
    "clf = LinearRegression()\n",
    "clf.fit(X_train, Y_train)"
   ]
  },
  {
   "cell_type": "code",
   "execution_count": 67,
   "metadata": {},
   "outputs": [
    {
     "data": {
      "text/plain": [
       "array([ 71949.71942864,  55791.24921078,  53890.25271456, 115672.63884167,\n",
       "        44385.27023347,  63395.23519566])"
      ]
     },
     "execution_count": 67,
     "metadata": {},
     "output_type": "execute_result"
    }
   ],
   "source": [
    "clf.predict(X_test)"
   ]
  },
  {
   "cell_type": "code",
   "execution_count": 68,
   "metadata": {},
   "outputs": [
    {
     "data": {
      "text/plain": [
       "array([ 67938.,  64445.,  60150., 116969.,  43525.,  55794.])"
      ]
     },
     "execution_count": 68,
     "metadata": {},
     "output_type": "execute_result"
    }
   ],
   "source": [
    "Y_test"
   ]
  },
  {
   "cell_type": "code",
   "execution_count": 69,
   "metadata": {},
   "outputs": [
    {
     "data": {
      "text/plain": [
       "0.940882728477622"
      ]
     },
     "execution_count": 69,
     "metadata": {},
     "output_type": "execute_result"
    }
   ],
   "source": [
    "# check the accuracy of the model\n",
    "clf.score(X_test, Y_test)"
   ]
  },
  {
   "cell_type": "markdown",
   "metadata": {},
   "source": [
    "## References\n",
    "\n",
    "[24] Wikipedia; Random Seed; https://en.wikipedia.org/wiki/Random_seed <br>\n",
    "[25] Kern, R; Decide on new PRNG BitGenerator default; https://github.com/numpy/numpy/issues/13635\n",
    "[26] Wikipedia; Random Seed; https://en.wikipedia.org/wiki/Random_seed <br>\n",
    "[27] Kern, R; Decide on new PRNG BitGenerator default; https://github.com/numpy/numpy/issues/13635<br>\n",
    "[28] Thomas, A; Good practices with numpy random number generators; https://albertcthomas.github.io/good-practices-random-number-generators/<br>\n",
    "[29] Kern, A; quoted in *Ibid.*<br>\n",
    "[30] Bansaal, J.; How to Use Random Seeds Effectively; https://www.acornanalytics.com/how-to-use-random-seeds-effectively/ <br>\n",
    "[31] Github repo; https://github.com/LakshmiPanguluri/Linear_Multiple_Regression <br>\n",
    "[32] Peng, R; The Real Reason Reproducible Research is Important; https://simplystatistics.org/2014/06/06/the-real-reason-reproducible-research-is-important/ <br>\n"
   ]
  }
 ],
 "metadata": {
  "kernelspec": {
   "display_name": "Python 3",
   "language": "python",
   "name": "python3"
  },
  "language_info": {
   "codemirror_mode": {
    "name": "ipython",
    "version": 3
   },
   "file_extension": ".py",
   "mimetype": "text/x-python",
   "name": "python",
   "nbconvert_exporter": "python",
   "pygments_lexer": "ipython3",
   "version": "3.8.3"
  }
 },
 "nbformat": 4,
 "nbformat_minor": 4
}
